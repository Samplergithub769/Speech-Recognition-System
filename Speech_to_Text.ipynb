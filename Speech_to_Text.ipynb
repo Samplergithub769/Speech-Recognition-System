{
  "cells": [
    {
      "cell_type": "markdown",
      "metadata": {
        "id": "5QR-eZnYEvo1"
      },
      "source": [
        "Import Libraries"
      ]
    },
    {
      "cell_type": "code",
      "execution_count": null,
      "metadata": {
        "id": "hbshJHDEEHrG"
      },
      "outputs": [],
      "source": [
        "!pip install jiwer"
      ]
    },
    {
      "cell_type": "code",
      "execution_count": null,
      "metadata": {
        "id": "VWsrrCKzEi5Z"
      },
      "outputs": [],
      "source": [
        "import pandas as pd\n",
        "import numpy as np\n",
        "import tensorflow as tf\n",
        "from tensorflow import keras\n",
        "from tensorflow.keras import layers\n",
        "import matplotlib.pyplot as plt\n",
        "from IPython import display\n",
        "from jiwer import wer"
      ]
    },
    {
      "cell_type": "markdown",
      "metadata": {
        "id": "tGQxiEkPF7Ym"
      },
      "source": [
        "import LJSpeech dataset\n",
        "\n",
        "*  **ID**:this is the name of the corresponding.wav file\n",
        "*  **Transcription**: words spoken by the reader(UTF-8)\n",
        "*   **Normalized transcription**: transcription with numbers, ordinals, and monetary units explained into full words(UTF-8)\n",
        "\n",
        "\n",
        "\n"
      ]
    },
    {
      "cell_type": "markdown",
      "metadata": {
        "id": "0NjMeOsN-f1B"
      },
      "source": [
        "Data import"
      ]
    },
    {
      "cell_type": "code",
      "execution_count": null,
      "metadata": {
        "id": "7MjxlD8jFxqM"
      },
      "outputs": [],
      "source": [
        "data_url = \"https://data.keithito.com/data/speech/LJSpeech-1.1.tar.bz2\"\n",
        "data_path = keras.utils.get_file(\"LJSpeech-1.1\", data_url, untar=True)"
      ]
    },
    {
      "cell_type": "code",
      "execution_count": null,
      "metadata": {
        "id": "buo_fAqZ5oiQ"
      },
      "outputs": [],
      "source": [
        "wavs_path = data_path + \"/wavs/\"\n",
        "metadata_path = data_path + \"/metadata.csv\""
      ]
    },
    {
      "cell_type": "code",
      "execution_count": null,
      "metadata": {
        "id": "ggRxdJuC7lpv"
      },
      "outputs": [],
      "source": [
        "# Read metadata file and parse it\n",
        "metadata_df = pd.read_csv(metadata_path, sep=\"|\", header=None, quoting=3)"
      ]
    },
    {
      "cell_type": "code",
      "execution_count": null,
      "metadata": {
        "id": "mOZbEbxq75fS"
      },
      "outputs": [],
      "source": [
        "metadata_df.tail()"
      ]
    },
    {
      "cell_type": "code",
      "execution_count": null,
      "metadata": {
        "id": "7ltBa51N8jkt"
      },
      "outputs": [],
      "source": [
        "metadata_df.columns = [\"file_name\", \"transcription\", \"normalized_transcription\"]\n",
        "metadata_df = metadata_df[[\"file_name\", \"normalized_transcription\"]]\n",
        "metadata_df = metadata_df.sample(frac=1).reset_index(drop=True)\n",
        "metadata_df.head(3)"
      ]
    },
    {
      "cell_type": "markdown",
      "metadata": {
        "id": "uSHigdd-_yWa"
      },
      "source": [
        "Data Preprocessing"
      ]
    },
    {
      "cell_type": "code",
      "execution_count": null,
      "metadata": {
        "id": "VncJgE-h-xnO"
      },
      "outputs": [],
      "source": [
        "#We now split the data into training and validation set.\n",
        "split = int(len(metadata_df) * 0.90)\n",
        "df_train = metadata_df[:split]\n",
        "df_val = metadata_df[split:]\n",
        "\n",
        "print(f\"Size of the training set: {len(df_train)}\")\n",
        "print(f\"Size of the validation set: {len(df_val)}\")"
      ]
    },
    {
      "cell_type": "markdown",
      "metadata": {
        "id": "KX2WaXkPFU2T"
      },
      "source": [
        "We first prepare the vocabulary to be used."
      ]
    },
    {
      "cell_type": "code",
      "execution_count": null,
      "metadata": {
        "id": "Hu2Q_kxSBL8z"
      },
      "outputs": [],
      "source": [
        "# The set of characters accepted in the transcription.\n",
        "characters = [x for x in \"abcdefghijklmnopqrstuvwxyz'?! \"]\n",
        "# Mapping characters to integers\n",
        "char_to_num = keras.layers.StringLookup(vocabulary=characters, oov_token=\"\")\n",
        "# Mapping integers back to original characters\n",
        "num_to_char = keras.layers.StringLookup(\n",
        "    vocabulary=char_to_num.get_vocabulary(), oov_token=\"\", invert=True\n",
        ")\n",
        "\n",
        "print(\n",
        "    f\"The vocabulary is: {char_to_num.get_vocabulary()} \"\n",
        "    f\"(size ={char_to_num.vocabulary_size()})\"\n",
        ")"
      ]
    },
    {
      "cell_type": "markdown",
      "metadata": {
        "id": "AsUxkjXFNn0X"
      },
      "source": [
        "Next, we create the function that describes the transformation that we apply to each element of our dataset."
      ]
    },
    {
      "cell_type": "code",
      "execution_count": null,
      "metadata": {
        "id": "GDhql65nQbPw"
      },
      "outputs": [],
      "source": [
        "char_to_num"
      ]
    },
    {
      "cell_type": "markdown",
      "metadata": {
        "id": "h7Bi6Hfn_0o8"
      },
      "source": [
        "![WhatsApp Image 2024-12-26 at 18.14.13_59cdcd9e.jpg](data:image/jpeg;base64,/9j/4AAQSkZJRgABAQEAYABgAAD/2wBDAAMCAgICAgMCAgIDAwMDBAYEBAQEBAgGBgUGCQgKCgkICQkKDA8MCgsOCwkJDRENDg8QEBEQCgwSExIQEw8QEBD/2wBDAQMDAwQDBAgEBAgQCwkLEBAQEBAQEBAQEBAQEBAQEBAQEBAQEBAQEBAQEBAQEBAQEBAQEBAQEBAQEBAQEBAQEBD/wAARCALDAwIDASIAAhEBAxEB/8QAHwAAAQUBAQEBAQEAAAAAAAAAAAECAwQFBgcICQoL/8QAtRAAAgEDAwIEAwUFBAQAAAF9AQIDAAQRBRIhMUEGE1FhByJxFDKBkaEII0KxwRVS0fAkM2JyggkKFhcYGRolJicoKSo0NTY3ODk6Q0RFRkdISUpTVFVWV1hZWmNkZWZnaGlqc3R1dnd4eXqDhIWGh4iJipKTlJWWl5iZmqKjpKWmp6ipqrKztLW2t7i5usLDxMXGx8jJytLT1NXW19jZ2uHi4+Tl5ufo6erx8vP09fb3+Pn6/8QAHwEAAwEBAQEBAQEBAQAAAAAAAAECAwQFBgcICQoL/8QAtREAAgECBAQDBAcFBAQAAQJ3AAECAxEEBSExBhJBUQdhcRMiMoEIFEKRobHBCSMzUvAVYnLRChYkNOEl8RcYGRomJygpKjU2Nzg5OkNERUZHSElKU1RVVldYWVpjZGVmZ2hpanN0dXZ3eHl6goOEhYaHiImKkpOUlZaXmJmaoqOkpaanqKmqsrO0tba3uLm6wsPExcbHyMnK0tPU1dbX2Nna4uPk5ebn6Onq8vP09fb3+Pn6/9oADAMBAAIRAxEAPwD9U6KKKACiiigAooooAKKKKACiiigAooooAKKKKACiiigAooooAKKKKACiiigAooooAKKKKACiiigAooooAKKKKACiiigAooooAKKKKACiiigAooooAKKKKACiiigAooooAKKKKACiiigAooooAKKKKACiiigAooooAKKKKACiiigAooooAKKKKACiiigAooooAKKKKACiiigAooooAKKKKACiiigAooooAKKKKACiiigAooooAKKKKACiiigAooooAKKKKACiiigAooooAKKKKACiiigAooooAKKKKACiiigAooooAKKKKACiiigAooooAKKKKACiiigAoopCQBk0tdkGwtFFIRmmAZHrRketI2B9ayfDmozaro0F/PgvLnOPYkU0m1clzSdjSjuYJZpLeOVWkhx5i55XPIzU1c/o5J8U65z/AM+5x/2zFdBTlHldvQUJc6uFFJQWA4I61JYtV3vbZLxLFp1E7oZFjzyVB5NTiuXvpCvxF0yPPDabOfydP8aqnHnbXZXMqtT2aT7tL7zqMilpo606pNQooooAKbvUNs3DcRnGecVVvNWsrCaOG6lCGVXZSemFxnP5iqDSbvFkKAnnT5W68f6yOqUXuzN1EnZG1SOwQbicADJpM45ptwR5Ehz0U/yqVuW3ZXEtbmC8t0ubaUSRSDKsOhFTVieDHD+GbBhnmP8Aqa2s8ZpyXK2hRlzRTFoppdQwUkZPQU6kNO4UUlBIAyaBi0UgxjiloAKKQkAZNNSaOVA8bhlPQg5zQK/Qiub22s/LNzOsYlkESbj1c9BViuJ8W62ra3ZaL5ZHlXNrcb89dzuuP0/Wu0DA9K0nTlBJvqZU60aknFdB1FJkUDnmszYWiiq81yI7qG2K580Mc+mKaVxN2LFFJjjFGRSQxaKSloAKKKKACiikyDQAtJkDqaWqv2rffNZgDKxLJ+ZI/pRuJuxaoopKBi0VGssTsyowJU4YDsaVSC3B6Ua9RXuPopOM0tAwooooAKKKKACiiigAooooAKKKKACiiigAooooAKKKKACiiigAooooAKKKKACiiigAooooAKKKKACiiigAooooAKKKKACiiigAorlvFPxE8OeDdc8N+HtbuJo73xXftp2mqkRcPMsTyEMR90bUbk106sD3H50AOopMj1FIWABIPSgB1FY134s8P2XiOw8JXWpxR6tqcM1xa2pPzyxRYDsPYZH51sDpQAtFFFABRRRQAVzfjrWRo2hyzJcGKZ8CPHUnIz+ldBPKIY2lOcKCxx7DNeI/GzxM01iptp9gk043cCMQCD82W9+gFdeCw7xFdRRxY7ErDUnNnuCnIBHpUVveQXJkEMquYnMb47MOori/DnxFtdQ0Vbi7wJIrCGaVzxulYldoH1X9a57w/wDFHRtK8J3vjG6WSS1v9da2jC4zudgo69gRS+pVndW1TsJZhRSTb0av8j1h+R15rzn4V+IJblBosuWUQvNE2eAAwBH5sKt6X8TodU0eTUhZojLYLeKC/DFpHXaPwUH8a88+F+vQaRr4a4fO3TLmYoCOcSQ5x+ddNHB1PZVIzWq/M5K+Np+1pyg9Huet6HNnxh4iU8bPsw/8hg10wOa8FvfHXnweMrqG6KzPcW3lOn/PNZVj6j8q9vsryC4R44pVZ4CElA/hbAOD+BrDF4adFpy8vyR1YPFQrXUX3/MsSzRwxtLI6oiAlmY4AArD8SXzWt1o22bYk18FbnAYbGOP0rhPiB48nTwzPbF0V7salHuA48uDzAPx+UZrkfFXxX0W8+GHhTxN/aK3GdSs45mTqjSAqDj0rbD5dUnyyto3YxxGZ0oc0b6pXPdJ/EOnWcl9HcTiP+z4UnnZuiowPP6GuQ168lX4xeE4opP3Vzpl8WweGA8siuS+LviS20Lw5481Jw7rPoNtBGU67pFlVT+dWdVu3Xx/8PbkON/9g37HnofLjNaUMG0vad1Jf+S3MMRjU/cvs4v/AMmsexvKsStI7BVUbiScAAVl+G/EUHiGC7ng24tbuS1O1s5K9/1Fc/eeKrIeBL25vLgma20MX0/HOxoiQ2ffBrmPBPiYabpusWttEElDpe78feDuqH+VcsMLJ05SW6Z2zxcY1oQvo7nqs2pWsE5tpZlWQRGcg9kBwTUyTLLGrowKsAwI6EV5hrvjHSb3VJLyxvFlin0W5jjde8iuwZfzU1n6J8S1WSPT5pSJEsHiiOflLhSy5HsIyM+9VHAVakOZIh5jShO0nua3jfVvNub2OWQPHBFcrGR2XyoiefqTWna+Ill13T9SaAqkunyRbAcnJuYYwfzNePaN4utNW8HahqL3Hni2jv1nK/wssUZK/gDVfw78U4NQ1aaxhGV0W2jY5GCd1/DkH8s5r1Hls3TaS1jueO81pxmpOWktj6B8ba+uheH7y5EyxziB3iGeW24zj86s6Xrdvruky3NvnIiBYHsWQMP0NeS/tB+Io7jwppl1YvgXLzICevGzNUvBXxFt4vBOt38N+BDp9nGJiF5SZQqMvue1csMulPCxqrfmsd1TNIQxcqUtuU9K0XWv7I+H9hdq6CYxqsat/ES+CB68V2obKj3FfK83jO8vfBcczz7RZXV1DbnGNiKLdlHufnPPvX0ppurW85i09pCbpbaKZxj+Fs4P5g1hjsFLD2ct22bZfj44m8Y7JIiv5CPEWlRliA6TkjPXCipfEWuL4f0xtSkj8xVkjjx3Jd1X+tZ+qXUP/CaaJZ+avm+RcyFM87doGfzrzH4yeOEj8daL4Ks7jf8AabeaW5RTn7jRuAR69DmssPhpYiUI+V/zNcRilhoSl/et+R6q/iu1g12/0m6ZY0sbCO/d/wDYZnB/LZ+tP8TXhbwnqV9aScGwlljdT28skGvIviF4oh0vxh4gt2+dr7wvDEmOmS82Tn6V1trrthefBtokvFkuY/DCSyqGyyg23U1rVwbpxhUtvb8jOlj1VlKn2v8Amd/Y3kTRw27SgzGBZSuecHvVzJ7VwlprKW3jHTLHZu+06VEuc9OWP9K7okbcjHSuOrTdNq/VHbRqqpF26OxHOcxPkcbSa4C61i40rwPpN7BK8cjPIOD1wkpwfxArW8TeIJYLjUdHiYIItIe73jIYNuI/lXi9542MnhCS1vrsG10mSPa2OQXikHP4mu/AYKdaKk9rr9TzsfjoUW4p62f6HRfFPxRcaD4i0m7SNHe7XT1bPVcySHNelaHrVydN0AOwf7bYvK7NySyopB/Wvn39pXWILJ/DOoLN+6BsGZoxklQZCcfnXZeKfFcuh+BvAdxDI8U1/pzIjqcHlIiQfqDXo1sD7TD0OVay5l+B59HHqlia/M9I8r+9nq15rFxL4Mm1gsI5fs5fKdBzWtJqQhlsYChY3hKg+mELZ/SvF/E/xFutM8Ex6NFaxN5tpaAszHJWbzc498xj8zXp2pTeXqHhUbj+8ncdOv8Ao715FXCSpW5lvzfgketSx0arfK9uX8WdRkdO/pWZfORrFiPVJf5CoLu9+yXhPmbQ08ERP+8On8qXU5Uj1rTi7gDZNnP0FcsIu68zsqTXK/I07O5W7tkuEBAcVn3V9v1a1tVBUpKytz1/dk1B4Z1C3XSLNJplWSYsqKTyTk1nvKW8YKmThbn/ANoVUKd5O4nVso+Z0t9K0NlPMpwUiZvyGf6UthMZ7KCZjkvGrfpVPXrpYNNnjIbdNDIqnHGQhPP5VD4f1BLi0htgDuihTJyOeB/jUKD5Ll+0XtOW/Q2N3FKT0rM0mcy/btxPyXciirGn38eo2q3cYKqzMoB/2SR/Spa1KjJNXF0+5e4ikLHJSWSPP+65H9Khv9UFjcRrIQI/Kklc+ygVT8PXYkjvowQfKupyCDnIMjkVz/ivU2nt7WeJ1PnWtwjY+nIraFLmnymE63LT5vM7kyL93cM43Y9q5vQ9SbUfENzKGBVYDGMf7MhrQgkLX6k97Ld/49XH+DL2OO8uPMkAebzkjGepEhOKulSvGRFWtyzi/U7+W78u5htwoPnbiD7AZqcnt0rkvDWpSajDolxKxJkScc9cAYrrGdcHB5AzWE4ODsdFOamuYytIZ21TVVJ4Wdcf98LR4euGuLa4fcTi6lUZOejVg6b4iRfEVzZlMG9lPA7YQDP6U7wTqccWnW9u5y95eXO3nP3WJrepRkottdjCnWi5JJ9zrobiGYkRyAkFgQD3Bwf1qauP0q/NpqrQEAl5rgcnGN06gfqa68Z71hUhyOx0U5qpG4tFFFQaBRRRQAUUUUAFFFFABRRRQAUUUUAFFFFABRRRQAUUUUAFFFFABRRRQAUUUUAFFFFABRRRQAUUUUAFFFFABRRRQAUUUUAfP37RR/4u/wDAYdz4vmwN2M/6BcV4LpNp4t0j4LaF8ff+Fp+M7jxHD42awiiuNbney+wvq0kLW72xby5PlJ+ZgWHQHAFfcOs+FPDuv6hpOq61pVvd3miXBu9PmkXLW8xQoXX0JViPxrMPwv8AAP8AwjMXg5vDFidFgu/t8dls/di480zb8evmEt9TQB8lajpU3iXUfj/431f43eK9KvPh/rF1caLa2/iCa3tdMaO2Eke+EPslR2UDY4K8HAya7X4SfEfxHrHxA8Xaj4w1u6tDJ8NdC1lrWa4dYbeVxc+dLHGThDkLuK46L6V2vhb9ljwT/wAJ34x8b/EDwxout3eteIW1fT5XjZnhi2qFRwcBsMpODkfSu/8AGXwR+FXxB1Sx1rxl4G0rVL7TYvItpp4cssWSfLOPvLz905HtQB8afs/+HV+IHjX9nPxz4m8R+JtQ1G48D3t3LdNr14vnyxSRlPM2yAMG3Hcp4fA3bsDH6BJ90Zrhl+CHwqhtvDVpD4J06OLwe27Q1RCv2D2jIPA9uldznGKAHUUUUAFFFFAFbUjiwuTjOInP/jpr4j+OPiaR/HvgXSlZ0/4krxSgNgN5jHAx34Wvt68UNazKe8bD9K+FNR8Kah44+JFxrBuykHhqEnBAJKxmQhR7Zx+dfUcMRpqrOrU2ivzTS/E+S4qlUlTp0qe8mvwab/A9LHiCLSPBWrXZk3Tw2kHlp7xyMSOP96vPPDGvt4o+EeneGHYRSWepxaoX67mZLhhx6Axj86yNWvtWt7S7ijdnj1rVZLGFcZCqjxZYH0A38Ve8I6b/AGO1lZqhKX8d3IzEYKLD+7VfpiRq+khhqdKDm9+a6+R8xVxU68lBbWs/R2O/ttci0L4baXLeXSJNJapAu7je+5jgD/gVcpqnjTUtC0Kx1aBQJr2D7K4CjkPsJA/Ksv4+6xHp9lp2l6XasqaTqjW4Ut97ZCkuP/HjVn4drN4o8V6RoF5bLJa2NnBqLYU8E28zHJ9AVWpo4eEcOsTPbVv7x4jESnX+rQeuiXqGj+JLOCw1KC/uNk2ossEA2khm+2hsf98rXunw++JN5qEl7qErxo1xrt7A8acBo4Lbg8+6j86+c30PULXToNTlt28o39oUPOG3Nvb8fmFdF4a1iGCO40tZyty7a3d88cOoRcH14rLHYKliINpG2AxlbDVEr7/8E7DxD4gt/EGnWFnCT50c+urMo7F1dwAe/wArrXiPg8T3ei2HhbUBIbaOJ7uWM9pYAWT6EEV1eiPq19rng3SrW2l8+61D7eXQ8SKHEbjHfhcn2rudX8K6bH458apDaiM29vfGDBwEZrdmIA+prak4YFOjbz+5tfqYVFLHP21+tvwX6IyvGfxDm8V+GysSDytQeG1kVRkBIRIBn8RWtZfEJLn42WlhqkkMNvpOjtDE/I+Z7Ynb9eDXMfBrwxZ+KFXT7txstr2O4kiycvGzbW/9CaqOmrf63DN4qhsvOmfxAbcHG3cpjaFQWHQfMOtZSoUPepRWyf8A5Nt+RrGvXlGNVvdr7ob/AJnceIPinp83wq1rUbZyXv8Aw4mkxheQrJ5iMfyFLqXip9M/tC1s5G+0GPSI5+ONklyBx+Rrh/Dfg+7k0eHwysYMz6rJb4l6NELnPI78A810Him2fVJ9Xu7MeUt5DpJgkIwSIrk7iB7Y/Wsvq2Hpy9lHa/8AkjT65Xqw9rPe23rf/Mr6f4vgsZrKxvJBDFCuoBpmPBMtxcgD8CBWX4y8Rt4evbW+nkZYrZ4GkwMkhjKmMfiKr6/4Yuml8OrqVrJHBqmowqHxy8T3Tk4/77NULHwXqPiG98U218Zbu2tDNEHDEOzwuHBx/d6c+9dtGnh9Kje6d/8AwI46tTEO8Enurf8AgJt+A5pbH4UeL5pUaNnk1q4G4Y+XyIWBrjfD13JbaF8QPFkD5i/cWKEPyzNd27jH4Vq315f6NZaj4cRWV9T0yTEDAgSCW2IyM9sqOa3PBngXUbPR9c8HX1nsnm1GDzgrDhUSFif5VcnClCpUk/jaa9LmShKu6dKKtyJr5tEHib4oXHiTw/p3hO2jL32k3cqRr182N1j4PvnIrjvBvjeew0vx14HvfOW71d4vsMJz/rBOrOM++OvtXafs+fDeLxn4yNzqbsq29iWjl6l5o5hu3Dv8uBS/Evw7cf8ACd2mnaPZL55wsKxqCxwyNj6YzVRqYSNaWCS/vP70wcMZVpRx03vZL7minbapeJod9pFyyCGFvtMZ3YYmaOLK474EJ/OvoL4j67d6Hqdnc2l09u8tvpkTMpwSrSMCPxzXz/q+gvZ/D1fGep3IidbmC3weDkQEPn9K2PHPxKs9Ut7GYaigF1d6bJY+YMM8YuGLkfTIFefXwqx1WEor3U5J+uh34TFvAUpxk7S91r01PQviH8Q/7N+M3gS+lujZW91byQSZbghjIvJ+oHNeWWGvatrfxV8O67KHuBJNcafMzZYhCgUHP/AF5pnj23m8Y6PofiLTpGujp2h3sLSoc/6UJiVQ+hxXo37Pvge9tNJS51O12XVvaW96Q3H7qaJmzg98jH4UuTD4DC+2lvZxt83/AJov2lfHYz2UX7t1JP5L/JnmHiHxfqOt/ExJrnYkM1jPbAI3D+XNIMEZ7Bv1rvfh74hlsPh/4hnKeY02lpp+Cfu5QqPyrzbS/CH2/wCMulaXAGeO5vL0bm5CsYkfn8c4+tDG7uvCeveFre/MF8NSuVVVYruS2y7Dj2Q/nXbiKFKtTjSXaLf3s4qGIrUKsqr80vuR7p4V8eRav8RdJSe4acws9skigbSiIzjp14at/QP2grS60TWfE1zAGs7a6gSBRkMBI/lhT75A/Ovmjwbr934Oa18SSwsy2EsjBc5LD7Kob9TUFt4jXRfAmveFHgYzahcWVzC+flUeepGPXvXBXyOlVqWtdaJfJ6ndQz6pTgnezs2/uVj6U8YfEOGSx1fxKlsdk+lfYIwCPlZ3cgk/hXzvNcanP4H8SazM0gjl0uykYhuDKAGbA9cN+tbXiDxdZ/8ACpruNndri3ntoZUPBYtuJx9Aw5p1x4ac+G77wxNN8rWt7BG69Mx2kewn8cVtgsNDBweml7fJWMcXiqmMmrPW1/m72OH8b+LpPEVh4dtUEsiNplmGBkLAGGOTJ/Hcp/CvUfi34xtYvh34PiaWPzfDdpAbiFGBkCSQQ4OPqDXlulaBcafq1ppV1bSE6TZ6haSSYyjMkJ5Hr14+ldjpPw1udev7y71lDcWF9Jb2IjVukaxK6jI5B4I/Cu/EQw8Jwk3pC7Xz0/I87DTxE4TjHedl91maPi3xvaamNCsipjmvIdL8pTzlI/tGc+n3hX0X4n8VwWlvo2rPKkEelXk8TsTkArbNg/8Aj1fJXjvw7NpvizQL60ZjY6VdSWO0jtGzFST+YrtvGvjG71/TtT0COB/M1ENeRlG/1amABhj/AIEPyrysVl1OuqPJtaV/K9kexg8ynh3Wc/ivG3qtUe53PjuPVzqksZU/2VqWnxnkfOxUMx+mTS/EjxU9lrmlfZZdryWpRweQrNtbH5EV81/BTXtV1XRLrWNR+Q6lKsaFs4doDEuR68Zr1Se5uPEs+m6g5aR95JP+6iD+lcFbKoYWvyt6RuvwR6FDNp43DOSWsrfmdl4O1+71G1gvEjMl1Yh9q54dv3pH64rp9I1Oa68WWK3KqJrlEuZMfwnyMEVwngSdtPuI9OnhYS3XzqcYwBvPP13CpLbXprfV7ee3Z0kt1htmf/eKZP5NiuCth1KcuVdD0KGJcIR5n1PVfHFxLb2dsYNvmO7ou7oSY2x+tZXg++NvLM986horbc6j/ZC7qyPEHi46v4Sg1vysCG9ZR2LBVPPtXJHxXbS+MI7GB2CpY3PmE9CXQAAfiprlw+GlOi42Oyvi4Qr89/Q9HPiKHSdSubeZztupJ3UD1GzH/oVZ3h/xO9v4OAZtnl2jNuPB8wykY/UVyfxA1P7L4i0e3iYB3ndJBjs7RAf1rNOrLZJrGkEExi/a3jUDJGFjfA/M10U8FGcIy6s56mOcKko9F/kdN4P126topXSXhLBp2U9CQjsM/jVW11KKfw1pk0sgDzCaUknoGHFedW+u3dm91aIjeVdQmMtyCuY2IB/AH8609Ovpk0a2t2YssOmwsOe5bH9K7XgbS5+7/RnDHHtrlfRfqj2lPEMEl3pl1ZYlivbRIcnIwCxyfwrj9G1G0tpEvWmTyxPdR5/2t7L/ADNYY1K4stF8LX1s/wC9jtXOR6ebU0cUN14b0zzl2LM8ly5GBlhJuJP481yU8KqbTez0/M654p1G/JXO98DeXHpPhmNpgzm2lYgnJOQOansPGUEmsXFtKgVJrw2S5PQpGST+lea23ieew8QeHLS1fyza6dHv7gq55/pU9peRz6tcjzMqNSnuQR0YECPH/jxrJ4Hmk3PZ/wCZrHH8sYqHT/LUm8K3g1HxlaX6XHmxXM1y6HqMB2UY9uP1q3p2vQaXc+E4zPiMapfRTADoGBIrA+F0EdvqWlQRIQltJcxqvoolIArNl8//AISKzgLHFvfmYA9BlW/+tXbOjGVRx7L/AD/zOKFeUKcZd3/8j/keoG5f/hIli3fdnQ/99XS/4V6QOg/CvIvtskmvvNbKsk0i28qoWxkC6BOPwFeuA8fjXh46PK4+h7uAnz8/qOHSlpBS1wnpBRRRQAUUUUAFFFFABRRRQAUUUUAFFFFABRRRQAUUUUAFFFFABRRRQAUUUUAFFFFABRRRQAUUUUAFFFFABRRRQAVn67Pqlvot/NokMc+ox20rWkTnCvMFJRT7E4rQrM8R6TNruhajo0Go3FhJe20kCXVucSwMy4DqfUHkUAfCXhXxz4rm1XS5fEX7V2u+FPi1cXUP2jwl4s02PT9KmlMg32saOg3oVJVHRixwDX0Fe/G7wx4G8ffEWbXtR1+5m8P2WjiXT0ZJbdp7gSCKO0jA3b3bghj129K4DxT8Gf2tviF4OPwZ8dyfDa/0GVY7SbxcXuG1VoFZT5q25TYs+FHzBwMknFV/jN8Ervwqvj3x9r/iK1sNJlj8MSaReyLJM0d1pzNzdKgO2JmZQWGSMsceoB6PH+1dDYa9qvhbxf8AC3xH4c1bSfDN54qmgu3iZHtIOoSRCQznPTt3q14J/al07xVrfhbTtW+H/iHw9Y+N7ZrjQNQvhEY7srEJGQqrFkO05GRyK8LB+Inx5+OfiG2uf+EUaWf4W6to9u2i6g17aW0108ap51wYwAX67QpIUHrXtGq/Ajxne2nwXgsr3T7aX4eA/wBoS+aThvsRhBiG358Oc87eKAJm/at0yDVNIuNR+HXiey8Ka7q6aHp/iO4iSOCW6dykZMTMJVjdlwrlcHI9a0P2dfE/iDxJr/xXg13Vbi9j0jxrPYWSyniCBbWBhGvtlmP414Fcfsh/HTVLPwomuweGNR1zwz4l03WbzxFd67eT3OqxwXIeTbCyeXbEoPugHkYzivpP4KfDPxH8PdV+IV9rktm6eKfFM2s2Qt5C+2BreGMBsqMNmNuMnigD1SiiigAooooAjnG6FxjOVNfJ3w8tQ+t+OHwjAG6jJ3Zx8zcfpX1lJ0xXg3wu8ISafp/xG1SRAy6nqU5iOMkFSwYfyr2MtrqhRrN/3fzPDzTDuviKKXTm/I8R1izMml+D/l+VvFGqRkZ44lzivVrvwLdapqWgtpsCnFlqkPkpwf8AWpgn25Az71S8YeErK2svDn2ZCPsnim72g9vMDFv1r23wXoURhs9VMxL2ouYguOu9wT/6DXq47MeWnGcH1l+bPGy/LPaVJQkukfyueB/FLwFNq9kZpLBQ0cusSShgAzglYUYcdeRzVr4W+Fo9F8Ua5dCNke1s/wCzyjfwhLaQ5P517V460P8AtzWrPT1iD+daTKyk4BXfGSP0rmvD+gzN4q8W3EEeY0u5N2D0zA6j9azpZm6mFdOT6fqaVMqVPGKpFX1/Q4/4neBmtvglDqmgx7Hs9OGoPI7ZxIsa7eO/QV5F4S8F6o9toXiG+jEg1rwvJJHMy4VbgzfMPr+8FfV3iXSGv/g3c6OqKWfSghV8gYCgkH8BXHfEzTIfCvhfSILWDclnCwVIwFwGliwB9OK0y7NJxp+wercn91hZjlcHV9ulZKMfvuc34I+Hd7ZeJ/hrqsskJWG1vGbacck7/wAeBW9Z+Gm1T4l6+J4ZFgv7m6t9+OD/AKOM4PsGBrsfDkBE/grkfu7G4GP+AYp+iQg+LpZgST/a14f/ACBHXDVxlTnlJvXla/8AJm/0O2ngacYRjFfaX/pKX6nnXwK8EXOg6zqd7cRp5bW93BGuASTFcldwP1B/KtDwd4JtPD3wMgiRVnk1G8tr/dtwwMk8ZA/DNejfD23iGhXMoiXf/aWoqGxztN1IcfnVe30uUfDTSdLjhcvHFZgpjkBZEJ49gDWVbH1J1G2+sfwubUMupxpK3aX/AJNY8ivtKuNP+I+j6dPb+WxuIWKf7TEn9Rj86ji8NahZaf4Xi1PTsvJBeRXKjlozCJJAD2GXCD8a7Xxbpzt8XtFufL+UyxZPqQK9I1Xwva6m8EqMIjbJOiADj96uDn8ea6KuPdGNK/WOv4nLRy5V5VWujPG/iL4WudV8MfDjWobVEFtd2LXIHVVdkZR+BJpvw/8ACt1o+vajNPCAmrQ6nPFyDuGUXkfhXsWpeFItR0Gx0Z5Sv2Frd0cDPzREEH9KxLXTW0zxnoFjKdzJp19kjpzLEf61hDMXKg6K8/1Z01MtUcQq1u35WPnL4t6BPbXfh3VZLdhizht2OOFJt1wM9s4NeqafpcKeOmuooyXuLqYyf8BFuo4+laH7Rtg9zpWgraQBpZNUjQBQAWJUgD9avadYzP42gRY8MLm4kOT2Xyc/yNdssa62GhJ9E1+KOCGBVHFTgtm1+RB8JvAzeGr+DUBaPGLhdQMh2YUbpU2Y9AQCRXGeLtIgH7RWjQWsQSNWBKjspjjz/M19Inp0ry258PQ3/wAa4tYnP/HrbsqKP72yI5P5V5+Fx0qledWe/LI9LF4BU6FOjDZSR5b8Vfh1c6l8FRp+krkz+IFbbJwETzdgP6CvAfib4a1ux8IWL3sAjbQL3ULRTsxt2ugQdP7vIr7+8aeHZde0E6XZJGrCaKUA8D5XBP8AKuc8R/CHSfFfhvWtA1WCFBqNy11HKi5aNyB835jmvTy3iB4VJS2vf7zysz4d+tOXJ/KkfM/7Lvhq+13wtqPhu+VleSdJRuBBw8BcYz65FfUOjWZ06fUYpY9hh0K1RlxgjYjjFc98I/hpL4R13U2WZHgspYLVXAwZPLtlU8dvvCvTLvR0mlvbqNv311biAZOAMA4/nXLnGZRxeKk4/C9fm7f5HZkuWSwuDipr3lp91zwz4P8AhfT9W1BfEkNsGulnS73u/KqUCnH5D8q8y+D3g2PxF8ar8apbyiyGqa68RH3XzIUP16mvp34Y+Frjwl4cbSbyBRcQuYy4x86hVwQfTrXn/wAGPDjv4gk1gqUS11HW1+7wS92eM/56VtHMWo4icX0SX4mFTLE54eLXVtr0seQeN/DJfTNM0iyto4JL681OMcY5CIFB/Dj8K4n4j6W9h4s8JJCpRDFDE+3gNtjB5x1xzX0t8U/CFppd94TS0WR2j1UTF89C7qG4HYgAVlfHTwIGttCtLKCJ7uATTF1TBYKCePcLxXqYLN4xcFLZqR5GOydyjUa3jy/O54z8Z/C1vY/Diw1W2zFL59lBKiAAS71Ylm9T8or1O08Jz3kDTtCxknvb63jAAJYfZQpx+K10Xj7wTBfWOmaFd2bmzuJIAoHU7YHJx7g/zrqfCVsI9RsVQHbDr+oAZHIGwgVy4jNHLDLl6OX3af5HXhsrUMU3La0V+b/U5/xF8Jlt9Gh1dYkSW3+1S3iyHO9XVguB9DzW94Q+G8uk22nzIhITU3u5Y5Rgom2RMY/4EK9E1ixbUtLubBG2meMoCe1Wkj2RCMnoAtfPzzKvUp8rfU+khldCnVUorp/wD5ls/DMXi/QfFcL2ZE1hq5lMvUiMLI3TtkgD8a5T4Vac+p/FO5nykltZeFnOWXKuzRYHtnivfNJ8KDQoPHQQHyL0qUz95iISGJ/E1wHwG8OW1raa1rAjzcT6W8e4j7oE0w2j64Fe7DHWoVknpol80j56pgP39FNb6v5NnA/DDwPfj4faTPDA6zWniC+t5IugVWy2fzUfnXpfhHRrnTrC3M6BRKjMhIzxxmug+F3huSPway3aFBPr0t3HznIY4z7feNbV/akaZZNGrMsM1yhOOg3Hr+ArHF4+VWpOn0u/1OnBZdGhShU8l+hyuu6fdaVrVhqFs2dsi25bbwSQg/qfzqvrmiW+halqAUt5cF1ZuWZicbmVm/DgfhXoUukpqsRjlVsQ6hbScDqNi1B4i8KDXLy7hlVhFdXcKOQOdgQZP8641jrOKb9TseA5k2lvscP4jleTw7q1nHsEUc6PGqgAAsJMn9BXD3ME0t/aXSABlcRyMPRpiP8ACvS/EejxWGnTW6u2ye+EP+1tSQqD78GqHhzwddX8l2zQFjbThMEd/N3fTo2c130MRClByvozgr4adSoo9Ucnrsk2reLdOmDGQi4Dhl5BCyf4Ctm10mU+KrqUxb0GtSscjI+a1Qj+VdHZ+HTonhfTbq5tA15pXnwFgc/MGPGffbWqmnodRju2t2T7ZGJxkcLJ9nx/hWVTGq1obbGtLAtu893r+hyF74OjfUNUW2RUWTTLS6hHXDvlP/Zq5xYUDyWRba0VtDZntmQN90epwc17HPoksVm+rFVPnWdlbhc85WVT/Ws7UPh2+qR2twuQYrme6Y4AO4t8o9+BisaOYcq5aj/qxrXy27Tpr1PNr22ntjaWWSWitVRUz90+Z2rX8TutjoA0yP79pYtKW/303fzrrNY0m3i1/UFt4vnaaBzkDgmaPOPaptV8Jxax/bkMbrJcQ2iWwiUd/K4rR4ym5JvRb/l/mS8JUUZW32PH7KwvpvGQKQyMW0+GYLzxGEByPwBP4V0WkhHhj1C3kLJdK7qCuMEXCof5V29l4Yhge51l7c+bHoMUKPg4B2lTj8Capa74Q1RfC9rbWkRgm3zDzFxuUvNGy9PXmrnjozaS20X6mUcvqUk2/N/oUvC+ltotza6zcOi2yy3RJz23lv0qrqVmE8TS38MWLa5jjeI4z2X/ABNdh4l0c23w+uLouA0EE7Lgd5OBWb4x08WvgG11WBW+0fYkBI7fKvH6VhCvzzvfd2OieHcYcrWy5jn4rqa38a6GFQlLi38lzyNv3mz/AOO17wvQHHpXl/gvSodR0n+1Jh++ht7fBxk7tu4n/wAer1BPug54rgzGpGU1FdND0cspyjByl11HdBmvJPAHxX+JPif4ueNfAniP4S6pofh7w9j+ydfmjcQ6t82D5ZI2nA9Ca9corzj1Dxj4P/GD4pePk8cHxn8G9U8Jt4cu5oNIF1HIv9rxKH2yR7lGQ21cYz1rY/Z9+JXj/wCKfgeXxH8SPhjfeBNVTUJ7RdMvA4d4UC7JhvAOGy2P92vT6KACiiigAooooAKKKKACiiigAooooAKKKKACiiigAooooAKKKKACiiigAooooAKKKKACiiigAooooAKKKKACiiigAqC8srTUbaSzv7aK4t5lKSRSoHR1PUFTwR9anooAydB8J+GPCtvJaeGPD2maRBK/mPFYWcdujN6kIACa1qKKACiiigAooooAKKKKAGuCRXPeDLSGDSZ41iVRJd3DuMdSXNdEQD1qK3tYLRDHbxhFLFsD1JyTVKVk0RKF5KR5vP4OfxUHjR1jSy1y6uGJGckZA49ya9GsrSCzt1htkVEHOFHGe9ZfhuGSEaiXTaHv52XjqN3WtpRjNa1q0p2hfRfqc+Hoxgue2r/TYzbjTppNdtNQXaY4IpEbPXLYx/KjTvD9lpt5qF9blvM1KUSzZPGRnp+dalFZc7asdHs4p3sVruwgvLSSymGYpU2MPasPxL4St9fkto7lQ1rDDJG6HqxJUr+RX9a6WkIB6inCpKm7pk1KMaiaa30ON03TZtPvvDVtOhWS2tp42HUDj1q54YtIGvdYuWjBkh1OYoT/AA7o0ziuhZFaRWK8jOD6VleH4mjk1YshUPfO4z3+Rf8ACtfaOcXfy/Mx9moS07v8l/kU/Acf/Eluh90/2nf/APpTIa6QRgAAYAFYPghWXSrkMMZ1C7P5zOa6Gs6r/eNmtBfu0jJ1Lw3Y6pqNlqdwWEti5ePbxk8dfXpWoFx3p1FQ5OSSfQ0UIxbaW4lc9d2M8njTTdRCN5UNlcxM2OMs0RH/AKCa6E9SRRgHBxThLku0TOHOrfM89+L9lNdWmgSRR7hDrVqznH3RvAz7davwaTLZeN7e4ldT563UiAehEfX8q6HXdK/te1jtwyqY54phuHHyOG/pUN1azt4hsbpImaKOCZGbPCklMZ/I1vGvakodk/xOZ4f966ndr8DYPSudi0G5Hi6bXXZFiK7VHdvkUfzWuiowKwjNw266HVOCnv0EA70bfenUVJZXtbGG0eeSLObmTzZM92wB/ICpyM0tFD13EklsRuNqMc9jXFfCbTJdO0G+MrKftOr6hOhBz8rXD128n+rb6VgeB02aFt/6e7v/ANKJK2UrUZLu1+phKCdaMu1xPFWg/wBqx2tzDEXuLaaMrzxt3qW/QVn+JdOlv/F/h+RFUiAyu4buoAz/ADrsABTGtoHmW4aJTIgIVu4B60Uq8oJeV/xCph4zv52v8tjG13S5rzUtGuUj3rZXLSOfQGNl/rVDwvpAeW5unkKtbatdShQOG3cc/nXVsARt9agsrGCyE3kAjz5WmbJz8x60o1bRcQdFOakT7felK54paKysdBmeIIwdEvxj70Dk4+hrmfCXg6x8MeFpmspJHa5s2Y7u27c+PzY12V3BHdW8ltKMpKpRh7GiC3ihgS1Rf3aIIwDz8oGMVrGrKMHBPRnPKhGVVVGtUjG8GaUmmeHrW3Lh94E3K9CwBx+FTXunR2eiXdrGchhK4JHdiT/WthEVAFUYA4A9KHRHBV1BB4INKVRym5PqNUUoKC6FOwtYoYFdRhpUUt9QoH9BVwrgZpQoUYA4FB5FZybbNYxUVY8/8TaNFqeuaf4euZXie7lmv43Q9Nkitg+x3V1Wj6U+n3epSsQUvLkTIB2HlovP4rTr/TjNren6gEH+jrKpbuAwHH51pD6VvUrSlCMb9DCnRjGcp26/oc54wszJpaWlsqqbi6x+LBuf1rUfSUuUtBK+02ylcAZzlcGnapbNdLbqq52Tq59gO9XwMVPtGopLoWqac3J9SncacktgLBHwq7MEjPCkH+lWwuFxntinUVnfSxrZXuYV74bjuLqe+VwJZXjIJ6BVZWI/8dqew0YWd9qN9kbr50Ykf7K7RWtSYFU6kmrMhUop3sZ8ml/8SdtNR85g8oHHtin3di1xbxQgjMbo35EVepMVKbRTgnuZGu6BFrGgz6GkhjSVdoOPQ5p93oFpeaKuizjdCiKuCM5C9v0rUxS1XtJJWT8yXTi3drpY5PwXp409r7TXTAQoNh7Lt4/SurxxisXS/wDkYtWHp5I/8cFbdOq3KXMxUoqMbIKKKKzNQooooAKKKKACiiigAooooAKKKKACiiigAooooAKKKKACiiigAooooAKKKKACiiigAooooAKKKKACiiigAooooAKKKKACiiigAooooAKKKKACiiigAooooAKKQnFIH7d/rQFxcCgkKMkgD3o3VFcRxTwvBMgZJFKsp6EEYIoAiOraWtut42pWogdtqymZQhOcYBzjOeKJ9W0q2do7nUrWJ0XeyvMqkLnGTk9M96/JDWvDXi74hHxR+xtpdzd2j/DbxN4j8WB42OTbpE1zZKc4BVppgMY7D610mnfFDVviZ4G+LX7TdgIWl07S/DXhGzS8tlmjWVXVrv5HGCQ+3qO+evNAWP1UEiMNysCPakkmihRpZpFREBLMxwAPUnsK/PH4tfHn9pDRfEHxo1PwZ8SbLS9E+FOj6Hq1tpkmlRzfajLZQvJDvJyqFmYnqeeMUfGv4z/GH4sD4vaHp3xC0jwhoPgjwdaTz6XPZrIdXe8g3yN5jEMij7q7e+KAsfodHNFLGs0UiujgFWU5DA9CCKVsY7V+fHg34p/GTW9E8O/C74f/ABK0zwLaeCfhXpfiWS5vLWO4fVppLcER5cjbGuAGI561jeI/22PjlpfgvQfFsk9vFdfE3wZGvhi1jtwUj19LyOGQoSOVeN94B4GMii4WP0Y0+xh06BreDdtaWSU565dix/UmpGvLRbgWjXMYnZd4j3DcV9cdce9fJH7IX7Q3xE/aA8YKNT1JE07wp4XtrPxFbrCo3+IDNIkwyOmFjVsD+/Wj4nultv8Agof4Vae5WKM/D/UM73Cj/Xx+pxnrSuFrH1XuHv8AlQWA718Yfta/tCfFPQPjF4e+EPwy1680W2vdBudam1LTtJi1GaaVH2LEqu6qEHViDnmudvfjf+1D421j4QeE4dct/AOseK/DGrX2vCTT4rkie1PyyxKWIG7gYzgBjTCx945FNaaJcbnC5OBnjJr8/vA37Tfx4+LGl/CP4f2vjzTPCus+KLfWLnVfETWCS+eLGZokjWNztUvwzfQ4rze5+J/xu+Ld58Hr/XPi99kuR8VNV0NrrT4UW2kEKyeXIFzhlwpADZ+/nk4oHY/UaC7tbkutvcRymJtkgRgSjehx0PsalBB5FfmN4d8cfGr4UXHxJ+JnhHx5axaHa/F1NLvdGlsFkN8s5hR3aU/MmAeAM96/TZXyoOP1oESUU0NmnUAFFFFABRRRQAhGQRVexsbfT4TBbRhU3u/4sxY/qTVmigAooooAKKKKACiiigAooooAKKKKACiiigAooooAKKKKACiiigAooooAKKKKACkPQ0tFAGVp8JTWdSlIOJDHj8EA/pWrSBQCTgZPU0tNu4ox5VZBRRRSGFFFFABRRRQAUUUUAFFFFABRRRQAUUUUAFFFFABRRRQAUUUUAFFFFABRRRQAUUUUAFFFFABRRRQAUUUUAFFFch8Rfi38OPhNpsWq/EPxdYaJbztsh+0SfPK3oiDLMfoKAOvorj/hz8XPhv8AFnT5dT+HnjDT9bhgYLN9nk+eInoHQ4ZfxFdfuGcZ5oAWikDKRkMMdaxvFHi7w74O0+LVPEuqRWNpNcxWccshwGmlYLGgx3LECgDaopoYHvzQWUdWFADqKaZEHVgKyNc8U6F4eu9Ms9Yv1t5tYufsdkjKT5020ttGOAcAnn0oA2aKTcvrRkdM0ALRRRQBFczRwRGaWRERASzM2AB6k159B8dvhzeeMk8E2Gv29xfFHd5EceTHt6gv0zz0rv7y2gvLd7W5hWWKVSrowyGB6g15XZfs2/DbTPGi+MdO0lIQY5EmsGQPbuW/iCt90j2rCt7a6dK1up6eXLLmqn15yT5Xy2ta/mehf8JV4a769p2f+vlP8aD4p8MkEHX9N5/6eU/xql/wrnwJ/wBCfpH/AIBx/wCFH/CufAn/AEJ+kf8AgHH/AIVX73yOa2D7y+5HLaV4B+CGifEPX/ippsGjQ+JvFFqlnqt6LoE3EKKqhSM46KucDnFc/p3wF/Zp0r4d6r8KtP0fRYPDGtX51O9slvcCW4LBt+7dnqo79q9J/wCFc+BP+hP0f/wDj/wo/wCFc+BP+hP0j/wDj/wo/e+QrYL+99yOA1L4M/s96uvjBdQtdMmHjy0t7HXgdQI+1wwRrHEp+bjCIo4x0rJ8b/s2/sr/ABF1G21bxd4d0W9urawTTA/29k822QYSOQK4EgXtuzivVP8AhXfgI/8AMoaP/wCAkf8AhSn4d+AwMnwho4H/AF5x/wCFH7zyHy4P+99yPLPF/wCzl+y34707QdM8T6Bot3D4bsU0zT8X7I62ijAgZlcF0/2WyK6HX/hf8AfEq+EI9U0zQTH4DuFuvD8cVwsaWLqoUbApHAAHB44FdBfeHfhJpmTqGk+Grfb1EkMII/DFZTTfAZH2mLwzn/r3T/Cr5Kz2X4E/7F3l+A74d+Cfgv8ACmTXZvAi6Rpb+JNRk1XUyl2D59y5+ZzluPoOK5v4q/An9nX4z+IrPxX4+jtbvVbC3a0gubfV3tnWJjkrmNwSCRXXWdh8FtQbZZ2fhiVhxgRRD+YrYTwB8PpV3x+FNGdfVbWMj+VJxqrca+pPZy+5Hk2sfsyfst6/4Y0jwprGm2V1a6CZjp88msSm6gEpzIon8zzNpPUE4rqbD4XfAbS9S8N6rp1tpFvceEtNm0jSCl7xbWsow6Abuc+pya7P/hXXgQ/8yho5/wC3OP8Awo/4Vz4E/wChP0j/AMA4/wDCp/edLD5cGv5vuR8x/HH9mjw9rPhHw34S+Dg+HEWmaDc3V0lj4hknbZLM+95Ip4ZkkXJLArkqQavfCL9kj4N+H/g5o/w7+Kl54e12+sNbn8RiWyuDbRWl5I5OLfD71RQdoyeQK+jv+FdeBP8AoT9I/wDAOP8Awo/4V14E6/8ACH6P/wCAcf8AhT/eeQWwX977ked3HwQ/Z0udC1Lw3NY6W2n6trUfiG7i+3n95fx7dspO7ORtXjpxXbeL/ip4L8E6BNr2o6zbyW1tsDJbyLI5DOF4UHJxnJ9gauN8PfAKDL+EtGX62kY/pXE/EXwJ8GfEHh+58NXtxoukG6aPdNaJEJl2urYBA4ztx+NTKNdxfIlc2w39mqtH27koX10Wx3Xg7x94T8d2Kah4X1u2voj1Ebjcv+8vUV0leT/DyD4H/DSzNj4V1LTbZnAEszPmWTH95jya9CsPFPhvVAP7P1yyuC3QJMpJ/DrWtONXkXtFqc+Mlhfby+ptun0va9vka1FNDrtznigMCRjvTOcdRRScdM0ALRTSMd6jmu7a1QyXVxHEijJZ2AAH40buyAmornbv4geCrSQxT+JdPDqMkCYHH5VDF8SvAczBE8T2AJO3mXHNXyS7C5kdRRVKx1nSNRTzNP1K2uB6xyhv5VayO5qHdboLj6KTIpaBhRSEgdTikJGMnpQA6iqV5qul6eoa/wBQt7cHp5sqrn86xZviR4EgYpL4nsQQcf63P8qpQk9kLmR09Fc3a/EHwTePst/EtgxxnmYD+dblreWl5GJrS5inRhkNG4YH8RQ4yW6DmRYopoIAJJGKdUXfUYUUUhI7nFMBaKaXQZywGPesy/8AE/hzS8jUNasrcjqJJlB/LNNJvZCukatFctJ8TfAMbBW8UWOT0xJmrll418I6g/l2fiOwlf8AuidQfyNPkl2DmRu0VHHNFIN0UiuPVTmnBhnGRU+ox1FFFABRRRQAUUUUAFFFFABRRRQAUUUUAFFFFABRRRQAUUUUAFFFFABRRRQAUUUUAFFFFABRRRQAUUUUAFFFFABRRRQAUUUUAFfLGl6d4f8AEf7cXjC3+JlnaXlzpnhnTG8IW9+qsi27mT7TJCjcF/MGGIGQAK+p685+LvwA+F/xutLWDx9oTz3NgT9jv7S4e1vLbP3hHPGVdQe4BoA+efjJoTaZ+1Pomk/Aa5h0LxRrXgzW/wC3zpkaBESNEazkmRflD+dhV3ckMapa7+1L8QLvwvP4z8L3Rl/4QPwF/aWv26xhkn1u4ZoY4pAOR5ZieQrkfeGetfSXwh/Z++F3wQtrqPwDoDQ3V8c3eoXlw91e3OOQJJ5S0jAdgTirHhf4F/DDwhp3ivSNG8MW4svGl9PqGtQTZlS5lmUK4IbIC4XhRwMn1oA+bfhz8Qvj1pnjHwu98/j/AFDSteglXW/+EpsbOCCOQ2zSxz2RhwwAZceX8+VJ54rCvk8ea/8As1+GPiV49+JOr+IL7X/E+kq1jKIEtLZE1MhDGFjD79qjJZiD6V9KeC/2YfhX4F1mLXNMttYvbmzgkttPXVNXuLyPTo5BtZbZJXKw5X5coAccVtSfA34eSeANK+Gjabcf2Dot3DfWcP2qTck0UplQl87jhyTgmgD5Z/aE+NnjnRX+I3iTwf8AE3xfLeeCpXOn2Ph/RI5dEtPKCmSK/nkjbzJOTuCuu3sK66w1n4ufGD416t4Zsvi/qPhLRbHwLouuJb6ZBbmQ31wZ8sTKjfusoNy98DkA5r0/xT+yP8GvF+oa/d6zp2rtaeJ3lm1TTItXuIrC5nkGGnNurCPzO+/GcgHrXEn9knS9b+Nmt+ItcTV7Tw7F4X0nQ9JutP1ya2uJBA8/mwy+W4Z0KvHndw2TQB5/4D+KPxm+OHif4ZeFJfibceGo9V8O6y+u3Wj28KyajNZXawLcW5kVlj343ZwQFOMdKv6N8ZPiTJrnhbwVrPiJdSn0H4o3Hhe51YwRhtStFsjOjPgbQ43hWKAcp25Fd140/ZT0PxH8WvAk2n6NPo/gvwh4WvNLtpNH1F7G4srh5YjGI2jZZACisCR6nPWvTrH9n/4Yafp3hnTLLRJIYvCmpNq9gy3D72vGVleaVs5lZgxyWyTQB8uN47+OGl/C28+PE3xf1WefS/iK2jR6Ibe2NjLpZ1gWnly/u/MZ9jnDBxjA4Nbni/xt8X/Gngj4v/FvQvi5qHhJ/Al5d6bpOj28Fs1rtt4UZ5LgSIzs8jMdpDAKMDmvoa6/Z/8Ahrc/D+6+Gs+mXLaFd6udclh+1yBzdm7F3uD53AecM7QcEZHQ185/Gz9mr4jePPFHjDS7X4e2U9r4rZUt9XsvEcljYLEECh9Qsg2bidOcMqMCAOaAPqz4V6rfa78MfCWtapOZ7y/0OwubiQjG+V4EZj+JJrqayPCGgQ+FPCuj+F7eQvFpFjBYIx6ssUYQE/ULWvQAhGaYEYEn5cGpKKAExSEe1KTj69qzdZ8RaN4ftTe61qVvZwr1aaQD/wDXQk3ogNEkKMnj8aqajqmnaVavd6neQ2sKAlpJXCqPxNcDP8RfEniqRrX4ceG5Zoc7Tql+pht1HqoPL/gKsab8KUvLtNZ8d6xP4gvhhljkOy1iPosXQ/jWns1HWb/zJu3sQyfFC/16V7L4d+GrjWHUlTe3GYLRG9QxHz/h+dOtvh/4x16Q3HjXxxdCOTlrDSwLeEf7Jflm/OvQre3gtYlgt4UijQYVEUBQPYCpMY6U/aqOkFYLd2ctY/DDwPYN5qeH7aaU4JluAZXJ9ctmtmPw/osahE0myAAwAIF/wrRoqOeT6jsjAvvAnhDUhtvPDmnyA9T5AB/AiufufhRBZZm8H+I9V0OZTuVUnM0BP+1G+ePoRXf1GXBJGQcfpR7SUeoNHm//AAk/xJ8HRMfFmhRa9ZRdb3SVIkAHdoiSfyNdV4a8deGPFkO/R9SjeUDLwSfJNH/vIeRUfibx74W8LLs1fVIkmfhLePLzOfRUXmvMde8K698VtTjvdN8O/wDCJQI4ZNXf93fSD2Re3+8a6IwVVXmuXzM+Zx21PVfEvjPw54VtTc61qsNvzhU3Au59FXqfwrlE8Y+PvFyB/BfhxdNsXJUX+rgoSP7yxcEj64rj9L8CeKPhdqkmu6hpP/CdRE7mvZG3ahAvsrcH8K9P8M/ETwn4ozb6dqQjuUyHtblTDMh9Crc0ShGn/D95dwhOUt9DKtfhhNqiifxn4t1XWZWwzRpL9nt/oETnH1Nb2n+APB+mc2vhzT1b+8YQzH6k5NdApHY8dqdWDqSfU05UZ7aDozoEfSbJh6GBf8Kx9R+GngjUiZJ/Ddkrn+OJPLf81xXUUh4GaSnJdQsjzu4+HPiPQ3+1eB/G95bBR8tlqJFzbn2ycMv4Go1+JWu+F2jtviJ4XntVJ2/2hYq01sfc45X8a9FkkRFLM6gAZJJwBXFeIfib4VsXfSbUS63fsNosrBPPYn0YjhR9TWsJOppJXJcVHVOx1Ola/pGuWiX2k38F1A/SSNww/H0rn/E/xO8LeG5hYvcyX2oNwllZIZZWPuF6fjXmM3wd8WeL72XW4b5/AguFObXTJmLS/wDXXBC/XFanhea++EcQsvFHglHt84bW9Nj84v8A7UoPzqTWvsKS1UrvsTzvY6BpPiz4w2fZTaeE7B8HMyfaLwj6ZCr+Oa0LX4SaE7LP4hvtR124HV765ZkJ7/u1wo+mK6DQvFPh/wAR2wutD1a2u077HGQfcdQa2RzWMqs02rWLUUY9n4P8M2ChLTQbCIYx8sCippvDeg3CFJ9GsnU9QYF/wrTorPnl3HZHGX/wl8FXhaSDS/7Pnb/ltYSNA4Pr8px+lY7eFviX4TlM3hnxUmu2ijIsdVUeZj0WZcHP1r0ksAQCQM1Wvr6ysIzcX11FBEoyWlcKo/E1SqzWm4nBM4rT/i1p9tepo/jTS7rw7esQqm5UmCQ/7MoG0/pXbjULM2v21biMwYz5m8bceuemK848ReP9I8SpNoHhXww/iuSQmN2MWLOI+rSNx+VcWPgF40eze4Pi0xBnMo0BJZP7PI67Cc5/IYrpVGnJJzfJ66/8Ehza0Wp6Lq3xa0v7c2jeE7C58RaiDtK2YzDGf9uX7oqrD4e+KHimXzPE3ieHQrJv+XHSlBm/4FK2f0FVPDvjvTPBcEWgeLvCn/CKOuESWKLdZy+4kUcZ/wBrmvSNP1Gx1KBbqwu4riCTlXjbcD+NZVP3Xwr5jiubVnL2Xwj8FWwD3emtqUwOfOv5WnYn154/Kugt/DOgWi7LbRbGNfRbdf8ACtSisXOT6l2RjXfhDwxfLtu9A0+X/et1/wAK567+Enhl5PtGiS3+iXC/dawuSig+6HKn8q7qmkqvU9aFOS6g0mecgfFvwgWaWS08XWCnsot7tV/VXP5dK1/DPxR8MeIpm095ZdN1GM7Xs75DDID7bsbvwra13xJoPh63a61vVbezjAyTLIAcew7/AIV5d4nvLr4sxDTfC/gYSW/bW9SQwrH/ALUWPnNbxiqq99WXclvl2PWdS1vStHtWvdUvoLWBBkySuFX864d/idqviWVrX4d+GZ9QGcC/uwYLUe4JGXH0rhYfgp4x8J3EGsPrDeOI7WPBsNXlbKY/55bsrn616J4c+KHhi5kj0jUopPD1/jb9gvo/Jx/uH7rD6VTpQhrD3/T/AC3JUnLfQqQfDjxXr8hufHHjm6lRjk2WmD7NCPYsCXI/Gt6w+GPgfT28yLw9bSSZz5k4Mrn8WzXSxypJGGV1IPOQcj86kByMisHVm+ti0kUF0DRUXYuk2QXGMeQv+FUNQ8CeD9TBF74bsJCf4vJAYfQjkVv0VPPLuOyPP7r4Urp6NceC/E2qaHOuWWPzvOtycHgo+eOexFVV8V/EPwbGD4x0CLWLNTg3+kht6j1aIkn8vyr0nrTXRWGMVSrX0nqLl7GF4Z8c+GfFtv5+iapFOwyHiJ2yofRkPIP4VvK4YZGTXGeKPhV4Y8R3I1JIJNO1NeUvrJvKlB7E7cbvxrGbUvib4DkWLUrI+KtJHBurYbbyMf7UfR+PSq5IT1g/kxczW56aDzjFLXM+HPiF4V8Tfu9M1NBcJxJbT/upoz6FW5zXS5FZOLi7MpO6DpzVWTVdMhvY9Nl1C2S7lG5IGmUSMPUKTk9D27VbryPxT+zf4L8WfHPw78fNQ1HV017w3a/ZLW3huNtq6ZY5dMcn5z39KQz1IanpxvTpovrc3arvNv5q+YF9duc4/CiDVNNurqWxtr+2luIP9bEkqs8f+8oOR+Nea237Png+0+Pl3+0NFqOqnxDe6cmmSW5n/wBEESoEBEeOGwBz61H8P/2dvB3w7+LfjD4x6NqerS6x41CrfQ3E++3Ta24eWv8ADzQB6xRRRQAUUUUAFFFFABRRRQAUUUUAFFFFABRRRQAUUUUAFFFFABRRRQAUUUUAFFFFABRRRQAUUUUAFFFFAEc4dkZY32MVIVuuD2r5Zb9oLxtov7OHivUtR1JLr4haH4gvPB9s5gUCTUXuNto2wcEeXLC34Zr6pI5zXyfrX7PPjfUP2tItbNjG3w1u7+38aXkhlH/Iagt/syReX9IonLdMmgCppvx4+LNn+zRdWmtaxDL8V7HxKvgh7oWyASX5uhGJxGMLjyj5mMYwPSu4s/2hPDXw6Pjm8+Inj/UNYg8PeINO0OWKLRfL+w3E9tDtiUrkzB3beX4wXx2rnr/4G+PLz9ryDxL/AGfCPhuJo/FkkglAJ1yO2a1VNnU5D+YT6gGsDxN8CviRf+JPiDfR+GTcWut/E7w9r1l+9Q+bY20NusshBPAVkb34oA9r0D9pb4Z6xYeJL7UbnU/D7eFLVb7U7fWrF7OeO2b7kwR+WVjwCOpIFcBaftRW/iv47eC/CGhHWNF0W80jVNT1ODWtKa0aeKJEMU6NIMmPluQR2yKzvjv8BPHfxL+IHjm90azihtNT8H2Frp1zPMBFcX1tfpcCBwMsqsEwTgj5qzvEHgz4w/Gz4jeGrzW/hdceD9I07wnrWh3d3dXkMki3dzCiKUWJiTFxkHgn+6MZoA9T8NftW/CjxRq9npunya1Db6o0iaTqV1pckNjqjoCdltMwCyEgEqB97HGa0U/aU+Fb2fgW9OsXKp8Q72XT9FDW7Bmnj3B1kH/LPBVhz34rxXQ/hz8ZPFfhH4UfBXxN8NU0G2+HN/pd1qfiAXkMlncx6emIxaKjeYTKVXO5V2hjnOBnAvv2ZvixBqfxHhstMhms/Djzap8N3My5N3cTpdyIAT+7xJGUGezH1xQB9deEvHmg+NL/AF6w0SSaRvDuotpd47RFY/PVQzKjHh9u7BI6Hiuk2r6CvL/2bvBGv+BfhTpdn4xgSLxPq8k+t68quGA1C6cyzqCOoVm2j2UV6jQAUUUUAU9W1CPStPm1CVSywqWIBxXlLftARzO8VpocMZViokuL4BfrhQTXr8iLIpR1DKeoIyDVQ6dpg6WFv9BEv+Fa0504/HG5ElLoeOXnxD1jxBhLj4h6N4fgJ+ZbO3e4lI9mbAB/A1Z0k/BixuF1DVvETa5fJ1udRkaU59QmNo/AV65/Zumkf8eFv/37X/Ck/s3TR0sbf/v2tauvT6K3oSoy3uctF8Vvh3CipF4ggRVGAqxsAB7DFO/4W38Pv+hih/75b/Cuo/s7Tv8Anxtv+/a/4Uf2dp3/AD42/wD37WsW6L6P5suz7nMD4ufD8f8AMxQ/98t/hR/wt74f/wDQxQ/98t/hXTf2bpv/AD42/wD37FH9m6b/AM+Fv/37Wjmo9mFn3OY/4W74A/6GKH/vlv8ACud8V/tC+DvDzW0Wnx3Ory3J2hbZCFU/7RI4FekjTtNzj7Db8/8ATJaDpmmj/lwtv+/K/wCFXGVBPWL+8VpdzyhvjxPefLZabptm3GGvL1iPyRf61mzeIz4hmL+Jfi5BZWh5NnpNuYs+xkbLV7T/AGbpw6afb/8Afpf8KP7N03r9ht/+/YrT21KPwxsTyzfU8z8P6v8ABLw23n2N7btck/Nc3G+aZj6lmBP8q6YfFj4fdR4jt/yb/Cum/s3Ts/8AHhb/APftaX+zdO/58bf/AL9rWMp05fF+Zdmupy7fFj4fdP8AhJID/wABb/Cuf8Ra58FfFC7tVvLJ5l5WaMPHKp9QwANekf2dp3/Pjb/9+1oOm6af+XG3/wC/a0RnSjtf7xNSfU8XTxBbeH5FPhD4uJJbL0tNWhacAegcYatCP46XdltXULTSL3sXsrt1/HDr/WvWP7N03/nxt/8Av2v+FJ/Zumnj7Bb/APfta09tSfxRuQ4zWzPGbX9qHSrrU5dJTwnqMc0QO6SaVViOP7r45qzL8bNW1RDHYS6DpQYYEl3NJMy/8BVR/OvXf7M07I/0C35/6ZLTv7L07/nwt/8Av2v+FV7bD7xphyze7PFl1LwzrnzeOvipPqCNybOyQ21uPY4G4j8a6zQPGHwd8NQC20S7sLNR1KRHc31bGTXe/wBl6f8A8+Fv/wB+x/hR/Zen/wDPjb/9+l/wqZVoSVmn95UYSXU5f/hbHw9U5/4SKAn1w3+FI3xV+HbghvENswPByrf4V1P9l6f/AM+Nv/37H+FH9l6f/wA+Nv8A9+x/hWS9ktbMppnk2tT/AAV1Wd9QtdaGlX2eLrTneByffAw34is+38eax4fJXTfidpOuW4+7FqVq6SKPTzI8Z/75r2n+y9P/AOfG3/79D/Cg6Vp3/Pjb/wDfoVt9Yjs02vPUhxk+p5HJ+0J9hhZ77QoLgxruJsrzdu9cBgDUOl/tMafrNqbm18MXVuMlR9rmWNs/TGcV7F/ZWndfsFt/36X/AAo/srTf+fC29v3S/wCFP2uH/wCff4i5anc8duPixrmr/IniXw7ocR6uFkuZQPUdFz+BptqfhfeSLP4w8c3PiOYNuxdMVgB9olAFeyf2Vp3/AD4W/wD37H+FH9l6f/z42/8A37H+FL29NfCmhqEu5x9j8SfhhpsK2thrNlbxIMBIoiqgfgKsj4s/D7GP+Ektx/wFv8K6f+y9P/58bf8A79L/AIUf2Vp3/Phb/wDfsf4Vk5Um7tP7ykpHI3vxL+Gd/bvbXut2dxDIMNHJGWDD6YribsfCuBzd+D/HFz4buCS2LNyYWP8AtRsCPyxXsn9lad/z42//AH7H+FH9maf/AM+Fv/37H+FXCrCn8Kf3icZPqeP23xV13R1CS+K/D2vRKPvMkltKfrjK/pUeq/tM6dolsLi98MXNyM4P2OYSc/TGa9k/svT/APnxt/8Av2P8KDpWnH/lxt/+/S/4VXtaD+OFwcZ9GeQwftEpqNtHNYaDFbmXkfbLrZtHuACRVa4+IGra+Sl/8SNJ0O3bqmn2zySj23v/ADxXs/8AZWnf8+Nv/wB+l/wo/svTv+fC3/79j/Cn7aivhhYnln1Z5LpEvwW0+4W/1HXv7Zv1OftWos0zg+wwAPwFdinxV+Hcfyp4itlHQAIwA/SupGl6cP8Alwt/+/Y/wo/svT/+fG3/AO/Y/wAKzlUpz+JP7ykpLqcuPix8PzjPiSAY7YbH8qzNc8Z/CDxHbG01u+0+8jJziWIkg+oOMj613f8AZWnf8+Fv/wB+x/hR/ZWnf8+Fv/37H+FSpU1smU4to8Zlv/C2juJfA/xVn0tV4FpdA3Vt9ACNyj6NVi3+NGsaYgTUbnQNVA6yWkskLH/gLAj9a9e/srT/APnxt/8Av2KP7L07obC2/wC/S/4Vqq9N/FG5PLLueTW37Sfh4azBpGq6Rd2gmH/HwjCWJPqQK7EfFzwB38RRD/gLf4V1B0vT+1jbf9+V/wAKP7K08cCxt/8Av0v+FRKdCW0GvmO0l1OX/wCFu/D8f8zHD/3w3+FH/C3fh/8A9DFCf+At/hXUf2Vp3/Phb/8Afsf4Uf2Vp3/Pjb/9+xUXpdmOzOX/AOFufD49fEUI/wCAt/hTG+LPw9Y4/wCEkiGf9hv8K6v+y9P/AOfG3/79j/Cj+y9P/wCfG3/79j/Ci9Ls/vBqR5pr+t/BPxM4uNSvbX7SvK3MKtFMp9QwANYY8UDQpc+F/i7Fc2wP/Hrq1uZsD0EgAb+deznS9PP/AC42/wD37H+FH9l6d/z4W/8A37H+FaxrQWlm15kOEn1PJk+O09mAl9ZabeN/esrsgfk4ruvAnjeDxtZvew2L2xj+Uo0gY5+orf8A7K04/wDLhb/9+x/hU0FtBbLtghjjHoihR+lTUqUpL3Y2ZUVJbseCCSccilwKAAOlLWBYUUUUAFFFFABRRRQAUUUUAFFFFABRRRQAUUUUAFFFFABRRRQAUUUUAFFFFABRRRQAUUUUAFFFFABRRRQAU0qCc/5NOooAbt9zQEA6Zp1FADdoPUmjyxnqfpTqKAG7FzmjaPenUUAJtGc0tFFABRRRQA1+Bmvm/wCKfx9+JPh/xjZ+FdI8BXOn2st4kX265w5uV3dIyDtXPvk+1fSJAPBGar3OnWF4ix3dnBMisGVZIwwBHQ896wr051Y8sJcp6WV4zDYKs6mJoqqrWV21Z9+z+Zwa/ETxttGfhDrDHHUXcGD/AOPUf8LE8a/9Ef1n/wAC7f8A+Kr0TAA4HT2rjNF+LfgnX9V8YaLpmoSS3XgWRYtaTyWHks0bOAP7/wAqnpT9nP8Am/BEfWsP/wA+I/fL/Mzv+FieNf8Aoj+s/wDgXb//ABVH/CxPGv8A0R/Wf/Au3/8Aiq6H4f8AxA8LfEzwbpvjzwlfG50fVozLazOhjLLuK8qeRyCOa6EyRLjdIgz0yRR7Of8AN+CD6zh/+fEfvl/mee/8LE8a/wDRH9Z/8C7f/wCKpf8AhYnjX/oj+s/+Bdv/APFV6EpVlDKQQeQR0NLgelHs5/zfgg+s4f8A58R++X+Z81Wv7Q3xKh+K+qeEH+HF3fWqyxCO1jI8+1DRITudSUIJJPOK1fjt8d/H/gCOOx0HwJcQrOq/8TK5QyRITjKgJ3GcfMQK94h06wt7ia6gs4Y5rhg0sixgNIQAAWPU8ADn0p91Z2l7C1veW0U8TjDJIgZSPcGsfq9bla9o7s9T+1su+s0qrwa5YqzXM/eff+t+p5xpfxI8dTadbSyfCfWJ2aFGMq3UADkqCWA3d6s/8LE8bf8ARH9Z/wDAuD/4qvQY4o4kWKNAqqMADsK8K+If7Yvwr+HvjTUPAi2HiXxJqeixCfWF8P6RLfR6XGRnNw6AhOOcdcVsqc0rcx5ksXhpSbWHj98v/kjs/wDhYnjX/oj+s/8AgXb/APxVH/CxPGv/AER/Wf8AwLt//iq1fAfxW+HvxJ0LSPEfg7xVp9/Z65A1zY7Z1WSZFYq+EPzZVgVYY4IIrbl8VeF4ba7vZvEelR2+ny+RdzNeRhLeTIGyRicI2SBg4PIo9nP+b8EL6zh/+fEfvl/mcf8A8LE8a/8ARH9Z/wDAu3/+Ko/4WJ41/wCiP6z/AOBdv/8AFV2Fx4p8L2lpb3934j0uG1uwWt5pLyNY5gBklGJw2BzxXH+Gvjp8PvFXxC8Q/DrSNU82/wDDOnWuqXt1lfsbW04JjdJs7WHqf1o9nP8Am/BC+s4f/nxH75f5h/wsTxr/ANEf1n/wLt//AIqquq/Erxzb6Zd3Efwm1eFo4HZZGuoCqkAnJAbtXbW3jHwfe6U+u2firR59Nify3vIr6JoFfIG0yBtoOSBjPerNhrGga/HcR6Xqun6kkLmC4FvOkwR+6PtJwfUGk6c2vj/BFwxeGjJN4eLt5y/zPCv2d/jf8R/iC62HijwbLLbgH/ibwL5cfA6MrdT7qa+hKhtLK0sIlt7K1igiUYVI0CqB7AVPVUYTpw5ZyuxZniqGMxDq4ekqceybf5hRRRWp54UUUUAFFFFABRRRQAUUUUAFFFFABRRRQAUUUUAFFFFABRRRQAUUUUAFFFFABRRRQAUUUUAFFFFABRRRQAUUUUAFFFFABRRRQAUUUUAFFFFABRRRQAUUUUAFFFFABRRRQAUUUUAFFFFABRRRQAUUUUAFFFFABRRRQAUUUUAFFFFABRRRQAUUUUAFFFFABRRRQAUUUUAFFFFABRRTJpY4InmldUjjUu7McAADJJoAceh4r8+oPhL8T/HHxr/aT1Xwf8bdf8C2VtewG4srHTbeePUQbWQ/M0ykjABX5fX1r7t8MeLfDvjTSF17wprVnqunySSRJcWsgdCyMVdcjuGBB+laSwxAs4jUGTliP4sep7/jQB+Xnh/+wLb4c/s9af8AHifXoPhOPDOofbmtDcRwnVhLJ5X2jyfnHG0qOm6sy61JV8H/AAGg+Nt94pXwTP4o8QRxedJcLdTaJsU2/nbMSlMDr12mv1U+yWxjED20ZiHRDGNoH06VxXjT4P8Ahbx3408G+OtWlu0vvBFxPc6fHDIFidpUCMJFxyMDpxQB4b/wTxk1x/h/4yVJtWl8FJ4tvl8FvqZcyHSgV2bTJ85Tduxur6wrl9V+IXgLwvp2o6hq/ivR7Gy0iVIL2SS7RVtZXxtjfn5GO4YU88iukjmSaNZYmDI43KR0IPINAElFFFACHkjmvhjwl42n/Ze+Knxq0z4j/DnxRqI8b60+taDqWlaU95HqEcisBbFl+4y5AweMV9zOwTkkAY71y3jj4k+CPh4+jr4y1qLTm17UItJ04Ojt591J92MbQcE+px9aAPgHRfhJ8VPgV+zn4P8Aj/F4MvZvGXhXxTqWvjw9bgmX+y9RkObVlUE5UFW2/wAJJqh8TvhH8SPCfwL+DGsa9o13qdrqGu3PiLx7bvp81+v2u8iZo3uLaJ1eRUZgNoIwfpX6aNtAycEd80wmHaOV2ngc8EUAfml4d+DVx4k8O/BDQtUs9b1vwnqfxG1C+ksrrSbixSzsnVSYDG0jskBK/LuboccV1PxK0PU/hz8Vvj5N4Z+EsmtaEPC/hqws9PFvMtoYRKA5AiKtIsSncyIckKR0NfoMpiKg5GBz24rN8ReJPD3hPRrvxH4m1az07TbGPzLm6uZFSONScAkn1JAHqSAKAPya8Y2uq6Z8N/2kZfs9zFod/F4buLA2Wjz6XZTZlIlNtDISV7LnOTjmvpr9j7S9JuP2itc8S/CjwJ4g8LeAx4KtbHU4NStJLeOfWvNibequfmYRhwzDqTX0L8Qn+CPxzN58AfFGqpfT32m22uTafCZIna0EgaOQOBjaWA4BzXqtlZwWNpFZ26kRwosaAnJwBgZPegCxRRRQAUUUUAFFFFABRRRQAUUUUAFFFFABRRRQAUUUUAFFFFABRRRQAUUUUAFFFFABRRRQAUUUUAFFFFABRRRQAUUUUAFFFFABRRRQAUUUUAFFFFABRRRQAUUUUAFFFFABRRRQAUUUUAFFFFABRRRQAUUUUAFFFFABRRRQAUUUUAFFFFABRRRQAUUUUAFFFFABRRRQAUUUUAFFFFABRRRQAVQ13B0W/Bx/x6y5/wC+DV+mSxLMjRuqsrgqQRkEH1oA+PP2E/ip4B0P9nWx8N3HjXQ4fEA1TWPI0ya+iW4eU3kxRRHu3ZY4wPevD/2dvip8cPGfxc8OeJ7r4kztqupeJb2z17RNR8R24t2sEkdfKt9PMYkjkQBCGLfMK+7LL9mv9n/TdYi8Q6f8GPBltqkE4uor2LRbdZ0mDbhIHCZDbuc5zmtqz+EXww07xdN49074eeG7XxJPu36tFpcK3bbupMoUPk9+e1AH50+DPGHxc0268B/Fb/hcviy5fVPi9e+E5dHuLkPYnTRcTL5ZQgkn5R8xOR0HAFZPir4ueN7/AMO3vxC1P9obxDpfjm6+JsOh3HhCK+SOGDT1utqosAG5Rt2kvnBHB5NfpdH8JfhnDa2tjF4B8Ppb2WoNq9vEunRBYr1iSbhRt4kJJO7r7185+L/2M4vGfxrg1nxT49ivNJubxddmgTQLOG/ma3kQxQyXqp5rxqzdCeQBnNNJvYTko7nyH4w8PWVh4S/amii8davJrQ8Y2UEdjc36yYia4gcXJiI5YMdofpgAV9c/suS+NPB37SPxF+EOr/EnX/Fei6b4f0jVrZtZlWSWGebcJApVRhTgYXFfRGofBz4U6vqeo6zqnw38NXeoaxHHFqNzNpcLS3aRlWQSuVy4UqpG4nlR6Vt2Xg/wxp2vXfiix8P6dbaxfQx29zfQ2yJPNEn3EdwNxVewJwKQzY7DBpe3Wqer3jafpV3fRgbreB5BnplVJp+n3X2uyguGwGljVyB7jNHLpzE865uUyfGczQ+H7iTcRh48nP8A00Wvmv8Ab91fTNC0r4Ra5rN7HZ2Nj8QtNubmeT7scaqxLMcHgV9D/Et/L8GX8g7GI8f9dVrY1Tw/oniOyitde0Wx1KBSHWG9t0mRWxjO1wRnBNatfuYtd3+hlBv2rT7L9T49/bI+PGi+NfhLpT/CH4hWuoaEfEllZ+K7zTb2SH7NYvnIkmjQvEhxgsqkgV4Vrs3jlfgAdK0v4r/b/Dt78VNGstJm0XV7q5n0+2k3iWA3MsSM4zgg4x0r9MLDwT4Q0q1uLDS/Cmi2drd/8fEEFhFGkw/2lUAN36ipU8KeG4rGHS4vD+mpZW8omitltIxFHIDkOFxgMPUDNZG5+a/je48WfDLw18bfhv4e8ceLB4S0fxnoFte3JvJLi7sNKuIVa8dJT8wBPOQeMmuQ8bWXhTxPo37R3hrwN4+8SeKfB2gaB4futIkutQmlERF2nm7WbBdArPzjn/gIr9OfiD8L9O8c+H9R0az1O78OXeoyRyy6lpSxx3DugwvmZUrKuONrggjiuO+Cv7Mnhr4QXniLWrrxFqfivWPFEcNvqN7qqRgPBECI4ViQCNUAJ4A70AfDer/Dnwb4x+JF7H4M8Xa+ui6N8FYb/T7vTtTkV5rhHcjfKfmcK+75fYelfen7Kmu6z4m/Zw+HWveIbue61K+0C1luZpzmSRyvJY9zXe2vhDwvYnNl4b0qAmD7KTFZxr+5zny+F+7kk7enNadnZ2mn2sdlYWsNtbwrsjihQIiL6BRwB7CgCaiiigAooooAKKKKACiiigAooooAKKKKACiiigAooooAKKKKACiiigAooooAKKKKACiiigAooooAKKKKACiiigAooooAKKKKACiiigAooooAKKKKACiiigAooooAKKKKACiiigAooooAKKKKACiiigAooooAKKKKACiiigAooooAKKKKACiiigAooooAKKKKACiiigAooooAKKKKACiiigAooooAKKKa5IXIoE3ZXFrmbokfELT07HS7o/lJD/jVbw74qgk1i70O5lkNw95ceVnkFVYjb+AFRa1e/Y/HltcZ3fZ9DvZSo68SQmumNKUJ8r7HJVqxnFSXR/kdkPvUrNisjwrrD694c0/WpFCPewLMVHbPaua8b+LLnSYNeRXPl2tta7MHBRpWcFs/8BFZ06LqVPZrf/g2NKteNKnzv+upqanrtvrHgzXby3AAt4L2FlJ/ij3r+u3NVLLxJt07wu9qCItQm+zPu6/LGx/mteVeCvGmmSaD8SdBNyzX8DaiRGQeTskf+ta/gDxPaeJ/A/w/1uHISTVJSydSjeVL8p/OvVlgHQjJNaJr8Ys8iGYxrNNPVxf4SR03xe1+G4+Ffi2ewlKS6dE8bEdVkUqw/mDXoWlStPplrMxyXhRifUkV86an4gt/EXwd+L+q2UpaBtSuRESMEBYIQR+YNe8eGtWhu7SHTkDiW2tIHckcEOvGPyrnxOH9hQUezf5ROnCYj21dy7pf+lSN6isuXxBptvrFtoclxm8u1d0QdgoBOfzrTyT0rzmnFJtbnqKcZNpPYWikHvS0igooooAKKKKACiiigAooooAKKKKACiiigAooooAKKKKACiiigAooooAKKKKACiiigAooooAKKKKACiiigAooooAKKKKACiiigAooooAKKKKACiiigAooooAKKKKACiiigAooooAKKKKACiiigAooooAKKKKACiiigAooooAKKKKACiiigAooooAKKKKACiiigAooooAKKKKACiiigAooooAKKKKACio5Zo4VLyMqqOpJwKa1xDGCzyKqgZJLYwKLMTkkS5FMmljjiaR2AVQWJPYCvNtb+NmjaZ4f1rxBa2/26LTL6KwgWB8m4dygOPoWI/CuFtPi7qms6HJ4turxbW1WK+tmhfiPBlAQnP8AEAjD8a9CjlmIrK9rK9jzK+a4ek+W93YvaNriRfEyIm4Xy5dTvvK/2gRKR+Gax7/x6+qePpbm2YobjTLi1mUdAfKDcfiK851jxZfpoMWv6e3k3KzOIyp3HJkdRj6/1rlbPX9Y0S7kvCEkvYbeQSJIDtVvKiVsj1+Y19bRyrnl7SXRWsfG183cI+zXdu59NfDfxxa22haPbG4Eos/DdtLPCrco8kqKpP4NVD4s6jbzQ+NvJk3GOLS4+P7wllyK8e8B6rc2ms6zbhFcSaP4etQD/CGEBNWPHPiie91TxhqMZ2wqjb492ctFdfzxn864o5W1ieaPk/vaZ2yzbnwvLPzX3XR5/deIbvQfiL41e3C7bi/aLDcg+ZHtOf8AvqvYfhzrOneE/Beh+HN7yy6HqN1dScjJUQtx+JNebeN/Cjza1aa9p8Mrr4pt4tTWPZ9w78Fc9yMD86keW4tfHPiHRZBIqoZ0wDggqvP5179enTxdOMY+X4KzPnsPUqYSpJy7tfe7nTW+vaXofwJ8YaYk8cTeIL6Vo1fOWaS2Rmx7lifzr3PTPE02hahcXEcKvvg0a3O49pdyk/qK+XvEujalfeF/D/hu3ZY3mcahJvfbmGOzjYn3zgiupsPipfah4mjW+thFG+jaVdYVuN0MykZH415eMy36xC9LXVt+miX5Hr4TM5YedqmllFL8W/zR7dq/iHTovimb67d400e4WCRvd7dTjHpyK9Xh1WwkjndZ1C2rFZieikDJz+FfIUPim/1i38S+IdXjk3Xev2sS7RxgxxJwe4ByOK7WX4pXcN9r0V1drBp7prAnXHG+Joo4znt979a8jF5TUnyxj0SX9feexhM4hScpVOrb/r7j6TV1dQynIPIIp1eO6P8AGOzgRdR1PetibBXCK2duwyBj7k7Bx716Enjbw7LBDJ/acG6eMSLGHBbBZV6D/aZR+NeLVwdai7OLPeo4+jWjdNL5nQUVSstTsdQiWW0uUkVhu4POMkZx+B/KrSSK6h0IYHoQcg1zOLT1OuMkx9FFFIoKKKKACiiigAooooAKKKKACiiigAooooAKKKKACiiigAooooAKKKKACiiigAooooAKKKKACiiigAooooAKKKKACiiigAooooAKKKKACiiigAooooAKKKKACiiigAooooAKKKKACiiigAooooAKKKKACiiigAooooAKKKKACiiigAooooAKKKKACiiigAooooAKKKKACiiigAphJwTyKfTQCO1AnseA+Jk+MPxG1PUBBnQNA0+O5hMRj3yXpUMAynIIzgDI9a888T+KviZoWkYn84tqV++h7pi26FUCPHISe53P+Ar7AKeg61zOsfD7Q9dtZ7TUY3dJr37dkNgrIBgEfhXtYTNoU2o1Ka5Vbp6ngYzKKtVOVOo+Z36+h8p6V8Ote8MR6ZHNcS3drc6hchwWLbTC25WI/vE8mn/F3RNRtfh9Joei2Xkxf2lYRRkMdzSPBNLLn2Hy/nX1vZeFtNsxCBbiQwSyTRlscM+d36GuU+JnhWwutPtY4dOjaWe9eU/L1k+yyoGx7DAruo577SvFyWl7/j/kcFbIPZYeSi9bf1+J8l+BtP1XxFqfgvRLl223ypcTo4wpIvM5I+groNd8DXV1qHinXYSnkxz3qbffzEAx+XNel+HfCkegfEOzsmiw9lZ6YgJGdrGRCwHpya7nT/Ci694B1Kxijihll1C7ZpCvJAkbJ9+35V6OJzhwrqpH4Xb8Xf8A4B5mEybnoezlvG/5HyxpWvHSNVJuAvl38mhQOw6gRWsMhx+VL4qguJrTxFf2cpEE+tJFLjjKSu/X8cflVb4ceDry60zR/EUiyXCWfjJra4LAkBBEVQnv0KgegAr0NfAGraj8P9WugkZEmuWEmEbkKHDD8/MWvUrYmlhpqUXqrL7nY8uhhauIp8sk7O7N/wAb6Fc6JH8P9IuGV5LPSsOVHBO5f8a4XUbeKy+OOqG6hLQ3GsmEhe/mOF/rXsnxcsyfE/h6Jlw0GlEMOy/OgNc7408A3A+LX2q3QrG1xaak7t8wwZ1yOOnJOK8fBYyMYrme8Zfiz2MZgZSm+VbTj91kc9reh3N/8Y9P8NWtsSLbw46xxgZILI6AfkKxbTwjeaNLp+o3DO7RWt3ay7gAYyJMLH7geWa+idL8KW9x8b9X8X+Z+8tdMt7IIR/C2TnP4VxPjvR5F0CfVAEEZ1W6i6c9bgn+eazoZp78aS0XLH9f8zTEZUlCVZ/zS/NWPPbfR2Tww2j2xMhkmTXnb+L5b0qVH/AQKv2Xw51DxLceILiylHlt9tvGjfnesrggKPfYDz6V6L8PfAD32m2XiFt8sM2lXFoYwwAWRbp3Ujvnk11fwx8C3PhlYpLyJ8/2NZ2ZLtk7kB3DH1rGvmqo83s37yZvQyiWIcHNe60z5V0fwn4l1/QIdN069nT+2tXu7Oc7Nwhgyo3AdeBKc4rtbP4IeNLsWHibStZubvbBHrlpASyRibzFJg47HOce1fSOmfD/AEjSJ7i6sVdHnlnl2kjaplA3YA/3RWl4U0aXQfDem6LcMrvZ2scDlOhKjBIrKvxDUa/d2+42w/DdNP8Aet/f6HzN4cHxe8VTXd14d1IaI+mSw6dPEYvNDymaRWIPTAV8898V7b8KdO8VQ2TXWu6qZrRY1t7OEqAUCZDOxHVmIz7ZrtNP0bT9La4axso4TdSebMUAG98Y3H8AKupGiKFRQoHYV5mMzL6ynCMEl0018z1cDlbwzU5TbfXV28hwOaWiivLR7AUUUUwCiiigAooooAKKKKACiiigAooooAKKKKACiiigAooooAKKKKACiiigAooooAKKKKACiiigAooooAKKKKACiiigAooooAKKKKACiiigAooooAKKKKACiiigAooooAKKKKACiiigAooooAKKKKACiiigAooooAKKKKACiiigAooooAKKKKACiiigAooooAKKKKACiiigAooooAKKKKACql9p8d7JayyMwNpN5ygdztZcH/vo1bpCM0JtaoTSkrM5JvB3m+NLjxFciNreSKHYM4YSIQR+HFXtD0mfTtGurKZVDSzXEi4PZ2JH8638D0pCoKke2K2deckovZW/Ax+rwV3Fb3/E8V0fwqNA+GMcYihia4voJXCDPzoQrEnuSVPNUvCLpcfDC9li+ZJb+wKkdx+5r0nxLoy23he30iKXd/pcSh2HUtJn+ZrhPB2i3Oi/DSTSLsbZra8s4pBjHK+VXrrEe2pSk3q5J/ieK8N7CsoxWiTX4G98QLYS68PkBYaQQCV6H7RHV+fTLfUviLPBdbiraTA5APOUnDDn64o8YQvceJViiRmZtLOABkn9/HWhaof+FkTluv8AY6A/9/K4nN+zVuzOtUl7V/4l+pe0zTZ7bxPq+ovHtiuo7ZUb1Khs/l/WuZ8T+EdU1HwpPpltbbp3v7m4VSR91xJg/wDjwr0TYvpShQBjFcsK8oSUuqt+B2TwsZw5Htr+JzvgHSrrRvCtlpl9D5U0PmhkBzjMjEdPYiuiAxQAB0paznJzk5PqbwgqcVFdAoooqSwpN3XjpRkVkSXDjxPHa722GxeTbnjIdRn9TTSb2JckjYopgYlsZp9IoKKSilcBaKKKYBRRRQAUUUUAFFFFABRRRQAUUUUAFFFFABRRRQAUUUUAFFFFABRRRQAUUUUAFFFFABRRRQAUUUUAFFFFABRRRQAUUUUAFFFFABRRRQAUUUUAFFFFABRRRQAUUUUAFFFFABRRRQAUUUUAFFFFABRRRQAUUUUAFFFFABRRUV1cw2dvJd3MixwwoXkdjgKoGST7UAS0Vz58f+Cx4R/4T5vE2njw6bf7V/afnr9n8n+/v6YpZPHng+HwzB4zl8R2C6FdIkkOoecPIdXICEN0OSRigDforM0jxJoevteLoup297/Z9y9ndeTIG8mdPvRtjowzyK0d3tQA6isuTxNoMWvQ+F5NVtl1a5t3uobMyDzXhQgM4XqVBYAn3rS3eoIoAdRTS4zijfg4wfrQA6im7+M4rPtvEeh3ms3fh211O3l1OwijmubVXzJCkmdjMOwbacfQ0AaVFJS0AFFFFABRRRQAUUUUARXEEVwirLErhWDAEZ5HQ1zPiHSPs2mXroWkN3ewT7cfdwyD+ldXTWRXGGAI96qM3B6ESpxnuc3Pj/hPLYH/AKBsn/oxabAjf8LFuHK8HS1Gf+2lWZUz4xhfA+Wwcfm6/wCFMi/5Hqbj/mHD/wBDra/5HPb/ANKR0VFFFc51hSZHrS0zt+NAAssb52ODg4OPWsLVNcVLjUdLVSHt9PN2W9iWAH/jtJ4Ul32t8T/Dfzr1/wBoVxtl4ih1/W/E95CpQ22lzWjg9C0TuM/qK6aVFylLsrHDXxCUI93/AMH/ACNPw341nubzwtpdxhf7W0uS4IxncybB1+hNbd/OYfFe5Rlk0eZx/wABkSvHfBHiG2uvFHw8BkXZZaHcrJJnqfKjZs/SvVNSvbe58QNdW0qyRyeHriVGU5DKXQgiuvEYb2NS1uj/ADZyYbFe2pXb6r8kb/h67m1DR7O/nILzRK7EDAya08iuS+GOozal4TtXlK/uv3S7R/CAMV1csiwxtNIcKilmPoB1rz60HTqyj5np0Z89KM+6Kd5f/Zr+ztAmftZdd2fu7VzV3OTkVzGpavY3PiTQ7W3nVnfzZhjoUKEA/wDjpqK28ZLnXhLHubSftEiqO6R//XqvYzaul0v+NjNYiClJN9f0udYsiMWCsCVODjsadXMeB78anaahejgS3pcDOcZjjOP1rph3qJw5JOL6G1OftIqS6i0UUVBoFFFFABRRRQAUUUUAFFFFABRRRQAUUUUAFFFFABRRRQAUUUUAFFFFABRRRQAUUUUAFFFFABRRRQAUUUUAFFFFABRRRQAUUUUAFFFFABRRRQAUUUUAFFFFABRRRQAUUUUAFFFFABRRRQAUUUUAFFFFABRRRQAVFcwR3MElvMoaOVSjA9wRg/zqWkYZFAH5/wAckmqeFtJ/YpvS0k138QrzS72E9R4ft3N5vI/uFDEnod1aegQyeI7Xwf8AskqV2eF/H93HqUHXbpFiVvIAV/ulZoUHbg19RWXwB8A2Hxtv/j5Db3jeJ9Q01dNYvKGt4kG3LomPlkYIoLA8jin6P8B/A+h/GPXfjlYQ3a+JNfsYbC5DSg26rGAN6Jt4dgqAknkIKAPBtb+LPxNs21PTPA+o6TpN/ffGCXwuszacjILQoSWdVxvf5c7ic+9O1347fGL4Yaj4/wDh1rPiGw8R6xpt1oNtoOtSacLdY/7UeSPM8aHawjaNiMHnIzXtQ/Z08Dm9N891qzO3i8+NeZ0x9vKFdpGz/V4P3evvU3iP9nj4e+LNY8Xa1rtvfXEnjSys7PUENxtWL7KXaGSEgbkkVpC2cnkCgD5u8beIfiB8EP2hNQ8Z+OPFUHjOTQ/hfqt/YstitrI0i3EO6ORUJAXftwcZwTnpXZaj47+PPw//AOEC1LxB4/0/X4fiZIdNW2j0lIDpF3NbNLDLCwJMsaldrBhk5zXoHhz9k7wLo/ia48X6/wCJPFXi/Ur3RbjQLl9fv0uFlsZipMZRURRgLgEDPcknmrXgr9l/wV4N8QaVr8viLxR4gXw7uGgWOs36z2ujhhg+QoRWJC/KDIzkAYGKAPCNA/a++IN3qXwrOqC0is7eI2XxJZkUfZb5pGtVAPGzE6MxHGFIp2pftL/Fq9TwnoyX19p7+OJNX1yG80zQf7SurXSIJhFbRxw5Ckt98uxOAwHevb9U/ZL+E+qaT8RNGmtNSjg+Jl2L3WDHcKHilD7wYDt/d/P8xHPJNbHij9njwR4k0Lw1pNneaxoF54PthaaLq2j3YgvbSIIEKhmVlZWCjIZSDjpQB4fpXx8+NWtW+l/DSFLjS9a1rxUdDsfE+saJ9meWxS2e4e4NoWwJgqFMZ2k/MBiun+AGm+MtI/ac+LGmeOPEdtr99Bo+hiLUYbUW7TQ4n2+YgJUODuBwemK7hv2XvAMvgxvCt3qPiG5vm1FdX/4SKTUT/ay36jAuRKAEDBfl2hNmCRtOTWr8KfgF4Y+E/iDXPFem694h1nWvEcNtDqd9rN6LiSfyd2xvlVQpw5BCgDjgCgD04dBS0gpaACiiigAooooAKKKKACiiigCo1gjaiNR3HeIjDjtgkHP6VTitJf8AhJmvvJPltZ+Xv7E784rW9eKTIB7CqUmjNxQ6opp0hZFdwpkbaue5wTj8gakLKOCRzXL+OdUt9Jj0q8up1ihj1FDI7HAVfLk5opx55KK6hVmoRcn0Ok85PMEPmLvK7tuecetKxwpOcYry/QfHsuu/E9tNhEYgSynVf73yOB19+tW/DnxUs9fVtPuIDFcGySdmHK7pCQoH5V1SwNaFrron95xxzCjN6Pv+CLNr4ii0Dwhr2vHy5fs13eSom8DzCvO0H14rxj4V+JDbeEfFWszXSs9xd6hbKJH/AL9wAPxwxP4Vx0HjqS+8AeINJkvy8sHisxJET8yxSRnOPbOa5u0tL/QPAOvnUlmgtLnxLHJC5U4MbgFivtmvrMHlSp05wqbuUfmrnyGLzZ1pRlS2ipfLQueGPEsl7p/h2+iDRMVntuG/hZEBH44r6Bk8UwaXZ6U1uFmceG0tJlLYMfmPEP5MDXyj4IuFPh3TFiL7LS/aPc2PvbsYz+Ar0jxt4ztbHV59Cgl3zT6XaRswODDt8lz+PyEfSu3MMAqtSMIr4eY87L8xeHoSqT68v4n0B8OvEVp4c+Hq6heNhRdCMAnGSQtd/rdwH0C/milDD7HK6ke6HFfJus+JNQs/hv4figupBHP4hvIZ1J4bany59gSK7q/8b6jF4svfDX2grANMsG2g4LF4lz+pr5zFZU6lbnT1u39zSPpsLm6pw9k1okl82mW/E/iO50GHw3qkMpjuE0dJA2ehO8GtrQbw3Fx42LOC7WN5IeckE+1eK/FzX728v7TR0ARdO0qS1RY85bbGjKT75kqxpXxBufCvj3X7G/5jvfC7yyxMcO8qxL37d/yr0nls3h+aK1af3XVjzHmkI4lpvRNL52Z7l8FPGVrqsOoaKIHS5ivXGeqkLFFzXq655z618n/sy67JdfEDWbIA7PMuroNuyMbIQP1zX0F4N8c6drtrY2aXi3N7JDul29iFzzXhZvgnQxMlDsmz6HJccsRhYuXdpHYUUwsM9aduXOM15B7gtFICD0paACiiigAooooAKKKKACiiigAooooAKKKKACiiigAooooAKKKKACiiigAooooAKKKKACiiigAooooAKKKKACiiigAooooAKKKKACiiigAooooAKKKKACiiigAooooAKKKKACiiigAooooAKKKKACiiigApCcdqWmt0oA8++IXx8+GPwv1OLRfFus3aXzw/angstNub14LfOPOlECP5cfB+ZsDg03xX+0D8KfB2j6Prep+JDdQa/CLjTI9NtJr6a6h6mRIoUZygzy2MV4v+0h4I1i5+J3/CWaR4Z+IOn3cukJa2niHwXPFO80ikn7Ne2k48tox1De/NcDq/wl+MieIPAvxR+I8HjdnTwf8A2FqcHgaS3hu7O5W6llV2iZShDxyIGCYwy+lAH1LqX7Qnwi0zwXY+PpfF0U+k6lP9ls/s0Es1xPPzmFLdFMpkG1srtyNpyBisax/ax+BGo+HdV8VweNdul6Hf22l6jPLZTxm2up1Vo4nRkDhsMM8cE4NfOfh3wHrvwk8Q/D34kXXhnX5wfEGt3MnhvUdTgu9YuUu48LerGAiGZQm5o0ztEr81iaDofiD4pXPxkk0rwBfWj3vxU8PXU2lOqF44Yre1aSSQA7VbaAzqOQTjrmgD6e/4bA+A32e9k/4Si/Nxp5BnsRot79sEZGRMLfyvMMWAT5m3Z710Ov8A7Qvwl8O+G9F8VXXif7VY+I4vO0pbC1mu57xMZLJDEjSEDudvHeuK0/wJrSftXeLPGMnhxxot74Ft9PgvWiXypbhZyTGD1ztPI6YNeBQfAz4heH7b4Z+MtZ0vx/FY6V4fv9E1C08KTwR6hYzPfSzJJ5cikMjowB24PC0AfVOpftL/AAW0nwxpHjC98ZxrpeuXj6dZSLbTM73SKS0BjCb1kG0jayg57VxnxI/bE+H3hv4V3vxI8HyXWsNZarb6TPaPp11HPazSOoPnQmPzE+Qkjco3cYzXmPg34I+JrXUvhvrC+DPEQtD8QbzXr5deu47u7jgNnJHHdXARFSNnbaSqg4JHerfxH+F3j6bV/jnqek+Dr26i1PVvDmp6bHCq7r9LYKZvKBOGYbcc9elAHtmtftTfBfw9dW1nq/iG+gmntoLudRpF2/2CKYAxm72xn7MSD0l2n2r1SzvLa/tYb2zmWaCdFlikQ5V0YZBB9COa+Lfi14Y8W6v411zx74O8DfE7w1rXiLTbWSxutEW3uLXU2EOBBqdpOSkTKxCkg/dzzX1p8OE8UR+BdBj8aQ20Ourp0A1CO2XbEs+wbwo7DPYcDtxQB0lFFFABRRRQAUUUUAFFFFABRRRQAh6VzfjLx54a8CWsF94mvWtbe4coknlsy7h2OOnWukIyMVR1XQ9K1u3Frq9hDeQh1kCTIGUMDkHHtV0+TmXtL28tzKspuD9nbm6X2PA/Gfx48Vaq91dfDTRLjUdMtQ0IuEUok7H5dyuwGNrenvXmPiv4t+IPibLp9iY7qx+z201tcwSLuzcsjlemQ2Apr69vPD2m2eg3mm6VpsEKSRyMsSIApcgnOPXNeYeDPgfb2ujalbahLtnvNVjvCWj+4EOcD6qSPxr6PBZhgaNPnVJJx26t+p8xjstzCtNQ9q2pb9EvQ8m+Hviq88H/ABNh/wCEkj8q4/soM4d8GV5ljkLAeoLMNvtVTwv42jt/HlnbwSosN5FpkDlmB2h0lbbx0OQBiuh+Nnwqu3+JN3420mUtLp2n20qQ+WDlUYKxznsor5w+Jmh694W+Kuo2EEcsDS6jLepGhICxxs7p07BeRX0WCpYbMXzRlaUobead/wAj5fH1cVlzUHF8qlZPyasbR8N6rD4isYoYJc3l3qFzOm0jbslYgn1+UEj2r3n4o+HRF8JLZGjbyJ5Uu4WDZ3Dy1OSe/NdT4X8Nfbtc03xBJbIYZbF4gWXOXMCkn8m/HNP+J2nPd/CvwlpVttRprVIk3cD/AFQ/wriq5k62JowX2X/melQy1U8NXq/zLT8EfOGgaHLa/CKHxApYpD4ra2lYf9dFwf5j8Kj8b2M0vjFtcikVre4gkhABz88ZVefzr1X4ieFoPBXwLk0+2CkS+IbS5YKON77c/rz+Nc94Z8E3Op+CtI1rVVMaX3iC7tUYcl43kds/+Ofzr1KGOjNPEy2cmvkzyKuAceXCx3UU/u0OX13xBO1tF4Wcu6WOozaiMfw5dlb/ANABrdHjqy1f4ny624a2tlsNPSRGOSNsK/zNZDaRbah4z1czBnENjfFR7rNIVNZHwksE8XX15/aEfzxSSxFlwM+TGCn8h+ZredOi6cqklsnf5mNOrVVaME73at8jq/Es41H4karHAWJ0/wCzGT+7tlEKg5+ornPGOlajLr2neMJ5Ge3urJ7SaRxkCQySIoPc5Cmrng7TdUi+KXivT9TjH2lLnT4nUHd/y3GMH6fyr3TwX8M49dEek36Ga0sr+RZiq9AktwAeeOpFc2IxlPL2ru6UV91v8zrw2DnmUZWWrk/vTt+R4X8M9f1P4bxrruj2M13e3WmgiMZzvkunj/AbYhXXeDfEHizwXc63qcOl3MdotnP9juS2Xjutrfu9vXIbd+Veu6J8FrKLxibK6dPJsrWKXdF8uQ007Kv4Ejiuh8afCe8vtOtLXw5cqkketHUpjIAdyySlmXpjADkfSvHxOcYStNqcfj3fkethcjxdCnFwl8Gy8zmfgt8bo/F8msaz4kv1tIA9va2wnHlnguCSp6cnk+4rurb4z+Cvsc73erW6XsUskS2McgeaYiUooRf4ixAxj1rmvEvwJ0rxB4mEdrAmn6VPbMb0QKAZ3LdAexBCn8DXXx/CHwWmr6NqyaVCj6DCkVkFUDZt6H3/ABrw8ZLL6s/awTV+i6W6fM+gwUcxpwVOdnbq93f/ACO0t5PNiWTaV3DOD1FSUirtGB0pa8b0PdV7ahRRRQMKKKKACiiigAooooAKKKKACiiigAooooAKKKKACiiigAooooAKKKKACiiigAooooAKKKKACiiigAooooAKKKKACiiigAooooAKKKKACiiigAooooAKKKKACiiigAooooAKKKKACiiigAooooAKTAPUUtFACYHoKMDOcUtFAHHfEH4VeCvija2MHi/Smnl0uf7VYXdvM9tc2kxUqXiljIdCVJBwRkE1a+H/AMN/Bvwy0eXQ/Beix2FtcXDXdy2S8tzcMAGllkbLSOQqgsxJ4HpXT0UAJgDoBRtHTApaKAE2rnO0ZPtRgegpaKAEwM5wPSloooAKKKKACiiigAooooAKKKKACiiigApKWigBpAPUZoIB7U6ilZBqUdR0fT9TieK7tUfzYzEzYG7Yeoz6V5d8YvhFo3iWRvG0C+TqOnafdRECMEzq0LqBn1yw59q9fqtf2UWoWktnNnZMpRsdcGujD4iphpqcHY5cVhaeJpuE1e5y3gnQ5dO8LRWt3aFZY4VEe5QWH7lFOPTkGvPfidbSDT/h5aFGDiVkIxjB+ytx+le4IgjjWMdFAArlfG/g5fEjaZfozefpNz58UYxhyw2HPphWJrow+L5a/PPrf8mv1OXE4O+H9nT6JL8U/wBDzT49+GJrv4XaPoaCOC7vdY0+J3bkeZuwCfyFUNA0j7N8M/Cdk3P2fxFOTxjkNN/9evQfjShk0XQVVCSNfsOP+2lT+F/BkVx4Y0qC7l+W1vp74KvfcZBj/wAfrvp4v2eDjzP7VzgqYPnxsuVfZt+J89+GvDUmrRa/cWFsJbtdQ1CycoMuCzM6pjr0JNYHwJ8K3el+Itfs5oCXjmupiOwDKADn3zXu/wAHNGjOveKZYQIxBrPnMm3qWgA7f561mfC3wtcT+I/EtzGFWPUYXRWIOFIdB/7LXrVMztTrUulkePTyu9WhVtrdnIeGvCt3ZfGvXvETQZsr7U9MVXIAG8XEoK/hsH519B/D6BYdJvEUAZ1S+7etw5rjYtDNtMNUzu83xJDEEI6bJ3Ofp81ek6FpraXbTQNtzLdTz8ejyFh+hrw8zxPt0vkvuPeyjC/V2/v+9lxbS3S5e7EKec6qhkx8xUEkDPpkn8zU2Pwp1FeO9T3ErDQoHYflRzTqKBiCloooAKKKKACiiigAooooAKKKKACiiigAooooAKKKKACiiigAooooAKKKKACiiigAooooAKKKKACiiigAooooAKKKKACiiigAooooAKKKKACiiigAooooAKKKKACiiigAooooAKKKKACiiigAooooAKKKKACiiigAooooAKKKKACiiigAooooAKKKKACiiigAooooAKKKKACiiigAooooAKKKKACiiigAooooAQgGggYpaQ9KBNHA/FtWbTdEA7a3Zk/g9dvb20NrbrDAgRFBwo6DnNc/41tIb0aPBcLuQ6pCce4yR+tdKM7RxW1SX7mC9Tmp0/305ehwvw+0kaRqmvgweTLPNFLIuc5JU8/lin/C23aPT792XaWvHI+XHFdTaaVHaX95fIzFrvZuXHTaMCovDdlNYaVHBPEEkBYkD3JIrSpX51J97EUsPyOC7XMq80i4t7WCFU351iO6OwZwpkzk11I4IowM4xTqwlNz3OinTVPYKKKKg1CiikyPUUALRSUtABRRRQAUUUUAFFFFABRRRQAUUUUAFFFFABRRRQAUUUUAFFFFABRRRQAUUUUAFFFFABRRRQAUUUUAFFFFABRRRQAUUUUAFFFFABRRRQAUUUUAFFFFABRRRQAUUUUAFFFFABRRRQAUUUUAFFFFABRRRQAUUUUAFFFFABRRRQAUUUUAFFFFABRRRQAUUUUAFFFFABRRRQAUUUUAFFFFABRRRQAUUyWVYULsygDuxwPzpykMAQQc+lAC0UUUAFFFFAGF4nXdJpOBnGoxH8s1uDpWfq9lLeNZmEA+TcrK2fQZzWgOlVf3UiIpqTYtFFFSWFFFFABRUazRvI8SsCyY3D0z0pr3Mcc0cDMA8mdo+nWgLkp6VmSTEa9DACcNbOxHbhhWiXG4JuG4jOPasC8uDD4ttARnzLSRVHvvFVBXZnUkkjY1Gc21jPOhw0aEg/SpYZklXhgSuA2OxxWR4gvALHUbUDBitvMznrkn/Cqej6nM1vf3gQAm6iQAnjDBB/WrVJuHMQ6qVRQOgvbpLSAzOuQGVcfVgP61OK5bxTqDLdx2G7AaNJeO5E0YrqV5GfWplDlin3KhU55NdhaKKKg1CiiigAooooAKKKKACiiigAooooAKKKKACiiigAooooAKKKKACiiigAooooAKKKKACiiigAooooAKKKKACiiigAooooAKKKKACiiigAooooAKKKKACiiigAooooAKKKKACiiigAooooAKKKKACiiigAooooAKKKKACiiigAooooAKKKKACiiigAooooAKKKKACiiigAooooA+av8AgozqWoaT+x78QL/Sr64s7mO1g2TQSNG6/v06MpBFe1fCiaW4+GXhWeeRpJJNHtGd2OSxMS5JPc14Z/wUp/5My+IX/XrB/wCj0r3D4Rf8kt8Jf9gWz/8ARS0AddRRRQAUUUUAFFFFABRRSZoAMgdTRkFcg5GO1Z+tXqWVoXYZMp8sc9yDiksp2Ggw3Izu+zhv/HapQbjzdyHNKTj2KltfxQa7qSTybVUQAZ7khqXU5vL17S1ZgEYTZP8AwCuOudain1q4G47/AC4Hd8cfxjAP1BrV8capFbxvcxY83T45CSRnrFn/AArq9g1JJdUcX1mPK30TNiTUox4u+xuwRYbHzCc8HfIAP/Qa5nxL4iW08XI4TIskVSO53HJxWO2vT33ipbjzNq3OnwoAB12zE/1rntc1g3XiW9aRj5k1ykagdtrFf6V3YfBWn7y6HFiMcnFcvVnf6zrP2zW720tpBsfSi0icZz1H86fo0xGgXUjAg/bLbj1+aOuDj1qI+LPEksUgIjsLeBN3QkjB/UVs6H4giNpqGmyFY47V7SVmJORiVAT+lOrh5Qhypdv0/wAyaOMjOfM/P+vwOi8USZ8UQqzYRdP3HI/6bx/4V1EmtQxSXUIYM9tAJ8A9VIJz+lef6tfC8vIGnlVppdEaQgdSPOXn9BVmyuGmu9XZCGWDQIU3BuN3lnIrmnQvCN+hvSxCU3bqelQyebEkmMb1Bx9afVOyf/Q4CcAmNcfXFST3kUE8Nu5+eckIPoMn9K82zvZHrcySuyxRSAiloKCiiigAooooAKKKKACiiigAooooAKKKKACiiigAooooAKKKKACiiigAooooAKKKKACiiigAooooAKKKKACiiigAooooAKKKKACiiigAooooAKKKKACiiigAooooAKKKKACiiigAooooAKKKKACiiigAooooAKKKKACiiigAooooAKKKKACiiigAooooAKKKKACiiigD5h/4KU/8mZfEL/r1g/8AR6V7h8Iv+SW+Ev8AsC2f/opa8P8A+ClP/JmXxC/69YP/AEele4fCL/klvhL/ALAtn/6KWgDrqKKKACiiigApCQOtLUcqGSNowxXcMZHUUIT20K19qUNnYT3zyJshjZyS3HA9a5yX4iaOkyQpcwys9uJAiHOZN4XaPxNZknwxmEctqviG8ltrhJPNikf5S2SQcAf7RB+grHX4boFayS1aKVWSBpY2JCAx792f+um0V30aWGa9+ep51atik/choaPiTxmLqyljlgSN7X7POvz537ywIx2AK1uaH4q0i+0qDS4bjNwYJYwpHUxjDfrXG3Hgy9k0myuNT8w3QnFrtB4MKFtpYdzyfzrJ8PP9gmt/IiKXEV3NGzFfvRyyE8E/Wuv6tSqU3GD2OSOJrQqXqL4ir4h8S2VhoV3cyTbJFLWq+pkI4A/76H51teKNTgn8I6hemXJa2EO485f7OAf1rz/W7d7pby2KCTfczsgxnBxCM06S4um8BT2U0h3Azkg9ch9oNeo8LDlg+t/wPH+tTTmktLfjc2bXUnXQtDvQ+ZMXOW6E7Qe/4VzviGe8vrn7VbZRrud2hIOTlmbH5ZrVtbOQ+G9BjVSebzI+qsa6CbRI5/D3h/U0XbLa3enb8cDax5z+Jq/aQoSUn3sQ4VK8LLSyucNpWoTzy6jeSAB5/sIf/vpv8BXSaYxZvFe8kgQIvX/psv8ASs/VNIl0nUdQgl2KGuLRYl77VfBH1Bz+lT+W6RazKhOJ54047/vsf1qqtqsfd6/8AiinTev9bm34dvZ7ya9+0vvNnpoijJHIUyZI/So7TUT4U8P61KlwWkuEijUk5x5rk7fwDYpfD5NnYalfSDPmlLRQByTgsDXHeLIb+exuvLVzHHq1vG4U9yqYH51jGlCrNwe10bzqzo0VNb62PW9R8dTvNoEtllYWglmeMgcuilQPxJqprPxNcarYPHbH7Rb6dHezxkfKjSZUqPUg5Fc5Z6Hfz3T2k0Tq9hY+cpBBU5dAw+oB/WtLSvB0ni6/v77zJkliiuLZS64BZZmK/hzXG6GGh70tktTtjXxM1yx3b/yPR7bxdG+pxW1x5cFt/ZwvZHc8AkjjP0yfwrfTUbN0jkS5jKyp5iHd95OPmH5ivNk8IXPjKG5hvY5bD7A62kTjOLiNVIOfYkmp7bwLrsSw6Vd3u2zjdIoHt2JaKNcnnd24X8682dCh/NZnqwxFdfZuj0pXDgFSCD6GnVR0nTzpllHZG4aby8/Ow5OTn+tXq4XZN2PQi20rhRRRSKCiiigAooooAKKKKACiiigAooooAKKKKACiiigAooooAKKKKACiiigAooooAKKKKACiiigAooooAKKKKACiiigAooooAKKKKACiiigAooooAKKKKACiiigAooooAKKKKACiiigAooooAKKKKACiiigAooooAKKKKACiiigAooooAKKK8y+PPx68M/s/+GtO8SeJNG1fVBq2pw6RaWmlwrJPLcSBigCsQOdh70Aem0V8+aN+1vd6xqtnpf8Awzt8VLUXcyRefPpUQii3Njc5EnCjqTTPF/7ZXh7w18S9f+Fmj/Czx14o1bw0sD6i2jWCSxxCVdycs4PI/UGgD6GorwvSP2o59V0DWNcPwI+JVq2kiEi0m0yMT3W9tv7pfM5x1PtXEr+374efxe/gJPgR8UT4hjtFv307+yoxMtszFRIV8zoSCKALn/BSn/kzL4hf9esH/o9K9w+EX/JLfCX/AGBbP/0UtfNn7c/jJvH/AOwL418VN4b1bQTe2sf+garCIrqHbdKpDqCcZKkjnoQe9fSfwi/5Jb4S/wCwLZ/+iloA66iiigAooooAKKKKACiiigCN4kk4ZAccj2rl9e0e3gktpIoFWG1gkIAHCkYwc+vWusrL8TWj3vh7UbWJ3R5LaQKyfeB28YrSlNwktTGtTU4vQ8Yg8Nz6xLZ3VpEzRyz3EO71YSJ6+yVcg8FbtQ1DSry3ZbebT5ljJTgskzZI+o216ppuiwraaYyqIvsoEpULjcxTBJ98nNX7jT4J7qO8kGXijdB6YbGf5V6M8ynflR5cMsg4OT3PK7Swt3trMwYJ06coy+geNhyK1RpxTRre0AyIp9LOfUDaTU3hfR7W5sdXuRvWTz9xweCVRgv/AKFXS6FZI0RWZA2yO2Iz/eVOtFfENP8AryKo4e7uefeJ9Aj1e7eVrcu1ul1OCM/fVht/rVK28KzweFrBNTDrJDNKsyN1kwAy/qM16fommIz3FxKdwMs0ZUjggsDUPijSnu7eK2sox5jylhk4BOwjrQsbK6p9EDwELup3OXfQIZ7extAFhjnvgin+9s8zj3OKsW3gSNr/AFCzKoV+32l6u8Z4Tbn/ANBI/Gt4aD9tOkSuhH9nXstz1xgkOv48Ma6JII1ladRh3ABP0rGri5ptJ7m1LBwktV2MLR9Dgiu7+7nth5sszqpYcGM44/StbT9Og0+Ly4UUZLEkKATkk/1q2BRg+tccqkp7ndGlCGyAUtIKWoNAooooAKKKKACiiigAooooAKKKKACiiigAooooAKKKKACiiigAooooAKKKKACiiigAooooAKKKKACiiigAooooAKKKKACiiigAooooAKKKKACiiigAooooAKKKKACiiigAooooAKKKKACiiigAooooAKKKKACiiigAooooAKKKKACiiigAooooAK+Rf+Cjs+v23gX4bXHhaytrzV4/iFpZsre5l8uKSbZNtVm/hBPevrqvI/2h/gjffGyx8H2ljrcGmHwz4os/EEjSxl/OSAODGMHgnfwTxQBz3gHxb+2Pf+LNPtPiN8IvA+l+Hnkxe3djrzTzxJ6pGV+Y5/rXgWla78fdG/bY+Oa/BDwP4c8RGa20b+0P7X1P7GIcQts2YBLZyfpX3vtJyCMDpXkXw7+CGqeCvjt8Svi9c67b3Vr46j09ILFYmV7b7OjKdzEkHO4dB2oA2/g7rHxs1jS72X42eDNC8Pagk4W0i0jUTdxyRYGWYkDBzxj2rw/TQP8Ah5prQxwfhfZ/+lctfWnOK8ctPgTf237VF9+0L/blubO88JweHBpwiPmK8czSeZvzgghsYxQBwv8AwUo4/Yx+IQ/6dYP/AEele4fCL/klvhL/ALAtn/6KWvD/APgpR/yZl8QuP+XaD/0ele4fCL/klvhL/sC2f/opaAOuooooAKKKKACiiigAooooAKQgEYIyDS0UAIFA5ApD1A9QadSYzmgVjC8LWUMOmHEeDO7mT35I/kBW2kUcS4RQvAHHt0qKxtRZ2624OQpJzj1OasVUpOTuyYQUFYiggjt1ZYwQGYsc+pp5RTyQDg5p1FTdlWWw3aBnFKKWigYUUUUAFFFFABRRRQAUV41exftIJ+0hDdW914cT4QJozeeshIvPtnGD9QQf9nbnPOK9Y0rWdI12zTUNF1O1v7WQsEmtpVkRiCQcMpI4II/CgC7RRRQAUUUUAFFFFABRRRQAUUUUAFFFFABRRRQAUUUUAFFFFABRRRQAUUUUAFFFFABRRRQAUUUUAFFFFABRRRQAUUUUAFFFFABRRRQAUUUUAFFFFABRRRQAUUUUAFFFFABRRRQAUUUUAFFFFABRRRQAUUUUAFFFFABRRRQAUUUUAFFFFABRRRQAUUUUAfMP/BSn/kzL4hf9esH/AKPSvcPhH/yS3wl/2BbP/wBFLXh//BSn/kzL4hf9esH/AKPSvcPhF/yS3wl/2BbP/wBFLQB1hYD3+lKCD0r8y/8Agoh+1B8c9J+Mv/Cu/wBnjxJqNjH4B0FvEHiZ7E/LjIbbIcHhUZTj3PpX218Lfj74a8Zfs66V8e7+626YdC/tXUzF85hMUeZ1wOSVKtxQB63RXypef8FNP2SrKz0rUJPGmoyW2qR+Z5sOlTOtqCxUCcgYjJI4HJxzXpvxZ/ar+CnwY8HaN448ZeLFOneIwh0gWMTXEt8GUMDEi8kYIOaAPXWJAyBmk3exrwv4S/tffBj9oS08Qab8NfEN2utaNZyTz2F9aPbXMa7DtkCt1Ge4Jx3r5z/Y8/bJ/wCEY/Zz1f4nftGeMda1KAeMZ9Giv2ga4MCkfu1bb91MggE9yKAP0Cory34p/tI/Cv4O+GfD/i3xprc0dh4ouYrXSvstu08lzJIoZQFXnoRk+4rz/wCIX/BQD9nT4b+Jr3wlq+t6zfX+l7RqX9maTNcx2DHGVmdRhWGeRzjFAH0iSB1or5R/an+OPhrXP2b9I+KHw9+Ok/hDSdW1S1Ftr1jZvO0ilsGExjDLkjBz0rvfiX+1d8IfgJo/hqz+IXiO+u9V1qxjmtLSwsJLq6u1EYLS7EHAPJ/GgD3KkIzXlvwM/aW+En7RFjqF38Ndflup9JkEV/ZXVs9vc2zHO3fG4yM4PSvUhQAbfeloooAKKKKACiiigAooooAKKKKACiiigChrui2PiPRr7QdTV2s9Qt3tp1RyjFHUq2GHIOD1FfOP2z4afsC+B/CPw98K+FfFuu2HifxF9jR4fMvZIpp2yXcnIUAEAKAM4PfJr6dqGW1t5womiV9jB13DO1h0I9D70APicSIHAIyAcHqKfSAAdKWgAooooAKKKKACiiigAooooAKKKKACiiigAooooAKKKKACiiigAooooAKKKKACiiigAooooAKKKKACiiigAooooAKKKKACiiigAooooAKKKKACiiigAooooAKKKKACiiigAooooAKKKKACiiigAooooAKKKKACiiigAooooAKKKKACiiigAooooA+Yf+ClP/JmXxC/69YP/R6V6l4b8Wab4F/Z903xjrM6w2Wi+F4b2Z26BUtwcfjgD8a8t/4KU/8AJmXxC/69YP8A0eleweAfD+jeKPgv4b0HxDpltqOnXuhWkVxa3MYkilTyl+VlIIIoA/L79m/wT+2F8V/+Fi/Hz4c+EvBWqab8WLy8sbyXxI7mRrTey+VEoxhMHb/wAV0H7KPinxZ8Nfgl+0X+yJ8TI4rXXPCXh/VNRtIBJvXy3t2EoRjyy5KMD6Gv1J8NeFvD/g7Rbfw54U0Wy0nTLRSLe0s4VihjySTtVeBkkmse8+Evw11DX77xVe+B9Em1nUrV7K7vnsozNPbuNrRO+MspHBBNAH5r+GvCXh23/wCCPGqakuiWRvLqGe9efyF8xpRd7Vct1yABz6Ve8W/Gy58DfCv9mDwHDpXg/TbjX9Cim/4TLxRpiXsWjBdwHl7+Ef5Rznjiv0dT4WfDyPwa3w8TwXow8MupRtJFmn2UgtuOY8bevPSqviL4L/CnxZ4c0/wj4k+Hnh/UtG0nAsbK5sI5IbbAwPLUjC8elAH5q/ss65BqX7fnjm6j+KFr47F14Lu42122s4rWC8kVI9wjWMBCqkEZGc46muk/Yn+Fdp8a/wBgz4sfDeeFJZNV1nUGtjjJS4jKyQsPfei/nX6E6T8HPhXoOq22uaL8PfD9jqFlafYba5t9Pjjkit8Y8pWAyF5PHSuV8f8Agfxj8P8A4Y6hpX7LHhbwnpGvy3C3EVrdQi3s3Zm/euQg+9jnOOooA/N79ljxH4n/AGr/AI0fB34V+MrKdtK+BelT3OsJOOJ72OYogb14SFcH+61P+I7+GPBPxh+K2v8AwE/aYsvBmpNfzXPiHwl430yNYL+XkvHF5wbzEJJA+XOCuDjmvtT9iL9k/X/2f7HxZ4y+Jeo6dqXj3x3qLXuqT2PMMMeSyxISBn5mcnj+KvZvGPwB+C3xA1dNf8a/C/w1repR423d7p0UsvHTLEZNAH5q/G/4oa78Xv8Agmj4c8Xa/wCENK0C5/4TG2tFh0qzFra3CJINs8cQAChskcehrvv2xtJ+G8vxN+F2uRfG/UPhb8R7TwxbppmrXthu0mWDy84eZjhTlip4IOea/QXV/hj8Pdf8N23g7WfBmj3uh2jI0GnTWaNbxlDlSqEbQQenFR+MvhX8OfiHpEOheOPBWja5YWwAht76zSVIsDA2hhxgUAfE/wDwTv8Ajp498a/Fvx98NfFsHg3xKdGhS4m8a+HNOigGoTE4xLJEqrITyQcDoa/QJemM1zngr4ceBPhvpzaT4C8I6ToFm7bmh0+1SBWPqdo5rowMUALRRRQAUUUUAFFFFABRRRQAUUUUAFFFFABRRRQAUUUUAFFFFABRRRQAUUUUAFFFFABRRRQAUUUUAFFFFABRRRQAUUUUAFFFFABRRRQAUUUUAFFFFABRRRQAUUUUAFFFFABRRRQAUUUUAFFFFABRRRQAUUUUAFFFFABRRRQAUUUUAFFFFABRRRQAUUUUAFFFFABRRRQAUUUUAFFFFABRRRQAUUUUAFFFFAHzD/wUp/5My+IX/XrB/wCj0r3D4Rf8kt8Jf9gWz/8ARS18sf8ABV+b4m237Mt+3g4W02gXE0dv4hha33zLCXUpIjZ+UBhg8d69q/Y8vfiZqX7PHg7U/istvHrF5YRypBBb+UILYqBCjDJy23BJPrQB7XRRRQAUUUUAFIQD1paKAEAA6AUtFFABRRRQAUUUUAFFFFABRRRQAUUUUAFFFFABRRRQAUUUUAFFFFABRRRQAUUUUAFFFFABRRRQAUUUUAFFFFABRRRQAUUUUAFFFFABRRRQAUUUUAFFFFABRRRQAUUUUAFFFFABRRRQAUUUUAFFFFABRRRQAUUUUAFFFFABRRRQAUUUUAFFFFABRRRQAUUUUAFFFFABRRRQAUUUUAFFFFABRRRQAUUUUAFFFFABRRRQAUUUUAZviPw5onizRbvw74j0y31HTb6MxXFtcJujlX0Iq/DFHBEkMSKiRqFVVGAAOgA7U+igAooooAKKKKACquo38WnW/wBplUsu9I8DrlmCj9WFWqyPE/8AyDP+3i3/APRyVUVeSRE24xbRrZpaQUtSWFFFFABRRRQAUUUUAFFFFABRRRQAUUUUAFFFFABRRRQAUUUUAFFFFABRRRQAUUUUAFFFFABRRRQAUUUUAFFFFABRRRQAUUUUAFFFFABRRRQAUUUUAFFFFABRRRQAUUUUAFFFFABRRRQAUUUUAFFFFABRRRQAUUUUAFFFFABRRRQAUUUUAFFFFABRRRQAUUUUAFFFFABRRRQAUUUUAFJkUtNbPIHUigBcj1FAIIyDmvzosfiqPEfirxbB40/bI+IvhHUbXxPqOnwaNpmlNNbW9vHOyQ7XEDA5AB+9x3rqfjn8QNV8KfGbQvh54l/af8a+DdAt/BcF8moabZefPqd0ZmUyTKsT7SUwTwOaAPu4kDqaMj1FfMHgH4aeJ/id8KrfUPBn7XfxFvba71KW5i1uS2ihumRF8prfZJEpEYdS3K5znnFUf2QfBfxX17SbD4oeN/2hvGHiKJLu/s5NFvBALSURyvErNtQNkYB64zQB9W5HqKAynkEGvnv4weI/in47+Ltn8AvhX4wj8IRw6INf8Qa4lss11HA0xijhtww2h2YEluwrG0XVPi/+z18UfCvgnx98S7r4g+EfGpurW1vtRto49Rsb6GIyhWaMASI6q+Mjgj8gD6dyDyDRketeWQ/tB+E7j4c+FviSumap/Z3izVLfSbOIxp50cs07QqzjdgKGUk4JOMYB6V5PoP7ZF74f0fx/4o+KPgHxJaaX4e8Znw7p8sFvbvvEjRpFCFSQs0isSWOOjDGTxQB9V5HrQSB1IrwqX9rPwjpWh+KNS8X+DPFHhu/8L6Uddk0rUbaNbm7sASBNAVcxtyMbS4YHqBXT+NvjdpfhSbSdJt9D1O+1TxDot/q2mwwJGdwt4lco25hhjuGO3B5oA9OyPUUZHqK8e/ZY+KXiv4w/BrRPG3jLw7eaXqd0JBKZ1iRbkBziSIRMw2Y45wcqciuR8UfEL41Wv7UPgLwnqFtZaJ4J1WfVLeKCK4EtzqZhtt4llwMRoCeFznI5oA+jwQRkUtIOlLQAVk+JcHTgpPW4t/8A0cla1ZHib/jwj/6+rb/0ctXT+JGdX4GawpaQUtQaBRRRQAUUUUAFFFFABRRRQAUUUUAFFFFABRRRQAUUUUAFFFFABRRRQAUUUUAFFFFABRRRQAUUUUAFFFFABRRRQAUUUUAFFFFABRRRQAUUUUAFFFFABRRRQAUUUUAFFFFABRRRQAUUUUAFFFFABRRRQAUUUUAFFFFABRRRQAUUUUAFFFFABRRRQAUUUUAFFFFABRRRQAUUUUAFFFFABTWz264OKdSZFAHknwB+GGqeAfD3iCw8VadYm51DxRq2qwFAsmbe4uXePJx1w3IqGP4Y69J+05efFC8sLOXw9N4Ph0iN3YNILpbp5CNhHA2t1/D0x7CAOwFIwBHSgCKOGG3i8mCJI0AOFQAAc+g9681/Zy8CeJPhx8MYPC/imCGG/TUL64ZYpRIoSW4d1+Yf7LD6V6XISqsR1xWT4P1W41vw9Z6ldlTLOu5iowDyafK+XmI51zKPc8i+NHw2+Ldp8RdK+N/wIn0a41+1086NrGjauWjg1Sw8zzFVZV5ikViSGII55FYvh74bfHf4qfFHRviR8cbPQfDWk+E7e4Oh+G9LumvX+2zxmNrme4KqG2oSFVVHU5NfSIAwOKXA9BSLPjvTfgz+0JB4K8DfCK58KaAmkeCfF9vqk2srqu576yju3mQxwbAY3CuN25jnBxXOftDeEPiR4E8DeLLNPD2myw658VdK8RaJqEt4GjuJJ7mILBLCF3R7WTlskHPTg19z4HpVHV9C0bXrZLTWtLtb6COZLhI7iIOqyIco4B7g8g9jQB8weP8A4EfFX4+t4s17xlpemeDry68GXPhbRrKO++2h5Zm3tPM6qo2ZCgKBkDOSauab8Pvjt4y+JXgXX/GXg/RfD2k+FfD+paRP5GrC6lnuJoURZQAiBUO08ckV9QhVAwAMUbVznAoA8n/Zn8JeMfAXwk0rwB400G30+68PmazikhvFuEu4jK7rMMAbMhh8p5HNO+Ivw88R+IvjV8L/ABvpkMTaX4Wk1RtQd5cMgntgke1f4vmHNeqkADIFYmj6rcX2ta1YSsClhJEsfHI3Jk00rpslyUWk+puDpS0gpaRQVj+JzixjHrdW3/o5K2Kx/E2DYxY5/wBKt/8A0atXT+JEVPhZrilpBS1BYUUUUAFFFFABRRRQAUUUUAFFFFABRRRQAUUUUAFFFFABRRRQAUUUUAFFFFABRRRQAUUUUAFFFFABRRRQAUUUUAFFFFABRRRQAUUUUAFFFFABRRRQAUUUUAFFFFABRRRQAUUUUAFFFFABRRRQAUUUUAFFFFABRRRQAUUUUAFFFFABRRRQAUUUUAFFFFABRRRQAUUUUAFFFFABRRRQAjHHIFZ9hq8GoXd7ZxK4axlEUhJ4JKhuPzrQPUVxnh28gsNT8X3t3KEhhvg7seigRLmtIQ5oyfa35mFSo4Tiuj/yOzHSjNc3pHjew1a9FnDEwLT3EKvngiLGW+hyK6Mt+VTOEoO0kXCpGorxdyO44iYj+6f5Vy3wqff4D0hj1MR/9CNdJczxhZIt6+Z5ZfbnnHr+def+GNVuNB+EtlfxEeZFGoH4y4/rWsIudNxW90YVJqFVSe1j0nIGBS7ga5HV/EMtx4Bvdet3MTrHJtYHkbXK/wBK6WwnSeBSsgYrhWwc4bA4rOVJwTb7msa0ZNRXVXLVFIOlLUGwUhYA4oJIrm31N38b29lDc5hNjMzIDxvWRR+fNVGLlexnOooWv1OjJzxXIeE3ZvFni1T0W4t8f9+qlj8WST+NE8PRgLGvno+RyxVI3BH/AH2fyqt4WlSHxV4xlkZVRbi3ySeABFW8aUoRkn1Sf4nNUrRnKLXRtfgdovSgnFNDjYCpBBGQRVLWtYg0XT3v7hCyI0alVPPzOqZ/Nq54xcrJbnW5xirsuuwAz6c1zlzqkGtaDaalbqVjku4AAeoxOo/pUuh+LNO1/wC0W8TbJ4GlBiPXarlN30JBrm/D8scPgbR0lcBm1BUAJxk/aSf6V0U6TV3LdP8AzOSpXUrW2ab/ABR6IO1LSDkClrmOxBRRRQMKKKKACiiigAooooAKKKKACiiigAooooAKKKKACiiigAooooAKKKKACiiigAooooAKKKKACiiigAooooAKKKKACiiigAooooAKKKKACiiigAooooAKKKKACiiigAooooAKKKKACiiigAooooAKKKKACiiigAooooAKKKKACiiigAooooAKKKKACiiigAooooAKKKKACiiigBGr598ZeI9RsfiDrHhm3mCW1/Y6ldSr3LxpbhSfYBj+dfQEzqkbO5wFGSfQV8n+O9ZOo3mpfEKxtkkeynmtgVfgxSh4sD1y8cZ/4DXsZNRVWpLm2t+PQ8PPKzpUo8u9zqbXWYrWC9WOY/aLO21KdwOq5iQqfx5roZvjFpeppZ2UErx3emyWN9cQq3LW8kbHg9+VP6V4xd60+nQa3r2peaCulsrxLxl5YDHg/RiD+Fc/8Pra71zxDr+qXN5IrJa2mmQjHypH5bYP1GB+de//AGVTqwdSr0/zPm45tVozVKl9o+oX8cWc/i3UroIwttN0MSOc/e3bJRj8Hx+FZkEElv8ABNo5JzJtmUqT2UzggflXg3iXUNX8KX2o2NtdTYtI/wCzZQ/JlXyI4sn8fmFevX3jLSrDwHp/hGWZRc3lvJeEl/uJFLHnP1DH/vk159bLXh4wdPW7R6WHzNV5zVXSyOms9TsLz4LXkn2qMqTd2/Jx+8WdwV+uQaf8E/EyX2lXlle3GbybV7/y0JySkbgH8sivEtU8Syad8OtH8NWFwXfUdfvb/HbyS7yD/wAeI/Om/CX4mwaEj6nqUYD2P9pXMjZwGefa6gD1ymMe9bVcqlOhVcVq5OxhSzeNPE0b7KCT+f6o+k/H3jex8JacUbUI4r+ZQ1tE55kG9QcfnXL6X8aLWbW9Ot9XnhsbS50+G4Jb+KSUfKB+VeQfFnW5fiN4Y8NfESxK/btCtGnvrHkMJGdV24/3x+tcxqFhqnjTXdK0gW62aadB5jzs5wosmjMgPvgmowmT0pYfmqvXW/S1jXFZzVhiXGltpbrf+up9n6jqdrp9idRup/LgXbl8f3iAP1Irx74V62t/8Q9cW6uctDqOp2sIc4OBIjbR+tZHiv41WGqzeIPBkKq8NtHaCzmBx5rb1EpHrtJFeSeEfH89r43/AOEmQGO0bxC14VC52R3AYSc9+MVngsoqOhU5lrbQvG5zT+sUuV6bs+g9Dv7fUPjFctaz+asNxdwsQeFZYIMj8zSSaklhcfEO1lmL3NxG91GcfdQIEA9etcJ4X8Wab4Q8Y6/r9/NvSHULu6kDHBCS+Uqn9Dj6Vi/FnxBfW3je9tdKucRanCoZ4zncgkDYz7jNaU8BKtXVJ7WSv6O5nUzCNCh7VO7u3b1Vj13VPidpkNjoNw0720Nuovrpiwx5MayKQfqUrn9U+JVp4ztp7+z3RwLpVleDLfeSS8jIO3twP1rzKbw/JrfhqWe5urhINasZbAKf4AkjRll9B+8NcV8K/EU91oj6DqLyi4uNBiSJwQuFtp1cKfyx+FddHKKLg6kNZRf4XOOvm+IVRUpfDJfjp+Z7FqPiW60DTNd8UaPdhFjsTLER3Vrx8H6bTW9dzaleXfw10iykAiudVubmdCcZEW9/6GvK7G6vtal07wdNa7rW8tImdgdu9IZDJInvkEcf416p8Nru28V+J9DtkmiFz4Ta7mliDZbZKhRT+O81hi6H1em5vVq7+Vnv8zfCV3iWoxdk7L53T0+494WnUwZBFPr5BH2wUUUUwCiiigAooooAKKKKACiiigAooooAKKKKACio/tEIlWEyAOwJVSeSB1qSgSaewUUUUDCiiigAooooAKKKKACiiigAooooAKKKKACiiigAooooAKKKKACiiigAooooAKKKKACiiigAooooAKKKKACiiigAooooAKKKKACiiigAooooAKKKKACiiigAooooAKKKKACiiigAooooAKKKKACiiigAooooAKKKaT6UARXaeZA6E8MpU59xivn7w58LNWPhXXtHnkhkhuLyKKDYN2GiupXLY642uld98afD/wAUvEHh023w18SwabPtYTI8eHlHosn8Bx7fjXN/BrwV8W9H8C21lrXiddOu1kk8yGezE8mS3UuW+Yn1q6GZVcLN0oR0dnf0OqtkWGxmFWMqV4qSduXW9n1en3HCa78Mdf1W41DTtVs3ha+u7aB1VshlZlbAPrjNXNB+Hd1piapo1lYMtxDdSJGvVnAii25PfHP617HJ4U8ezFDN44s3KOJFJ0lCQw6H73UU4eFvHyuZV8cWYcnJYaRHkn67q9V59iJRUXHT5b6HgR4YwkZc/to3+e2vl5nEfFL4UL4pvb1NIsoRdywWlyzE4yyu4Y+5IVR+FYL/AAV1ia9TxBd2w2GcNLCzfMYlglQ/T76/lXq//CN/EPdu/wCE8tt2MZ/spM4+u6nf8I78RcY/4T63x/2C0/8AiqxpZ1iqUFCK0X9dzerw5gqs3OVSOv8Ai/yPGNH+CXiDUtb0vV590EFnpdohhfOwS43Oy/iuCPU1PpHwMtbG2064ui7za3f2zbWQ7YVRS5yPqCPxFev/APCO/EUDA8fW4/7haf8AxVB8OfERsZ8e2xxyP+JUnH/j1VPPMXU0af4Ew4bwMNVUj+P+R4jofw98USeKfH1n4ghlTS7zUbYWS8ZEUl1uJX2OM5rR0TwRd41a78l47uW+8RW0BfhfLkjBU8j1A5r1dfCPjtbuW8Pjy1MkqIjZ0pMYUkj+L1Jp8vhfx9MjRv48tMMGXjSk7jn+Kqnnled3yW27dFYxp8M4WCt7ZPf+bq79jxXwH8LNXuPBXhybxhbyG+k1SdZH2/NsnAIfPoNoqab9nXUTo+oeHLK8CSQBGWUKerKwBB/ixwK9jg8KePba3htovHlsI4EVUB0tOMDA/iqQeHfiIOR4+t//AAVp/wDFUpZ7inJuKsrt9OpcOGcCopSqxb07/wCR5HH8H9a1VEsmtvLukGkSyyy9WCRyGUN/wIikj+CmrW2p6fLe2mbPRredGYuTvTypAhHrztr13/hHfiLz/wAV/b8/9QtP/iqQ+G/iGQVbx7bkHqDpaH/2al/bmL2tp/XmUuGsF/z9X4/5HJa54PaG28MR2liFsraxjWYgYHmNLETn64Y15PY/Ce8ibS9fsrOWI3cl5ZYUAKUMcpAA+qj8q+hG8MfEB1CP45tGUYwDpMZAx0/iqN/CPjqTyd3jayP2d/MiH9koAjYIyPm9Cfzow+dV8PBxUXr/AMH/ADCvw5hcRNSdaOnr5eXkeZ+Efhxr/mWeq3lqlsIIb2K1ZuwlhQBm/u8oRWz8DfhxqXhfxV4i8R6gY2e7P2QspPJj2jj24JGPWug8YeFviTc+F9TtLfxnFcSyWkqpDFpqoznacAENxXOfs7eDfjJ4Z07Z8QvEKSWOw+TYyfvpkPH3pOv4c/WuWtnVeq3RcNJL9T0MPwtg6eF+uLER56b0jrd+mh7eM/WlJxTVx26ZpW6Y9a5QXmeM+Pv2v/gL8NPF194F8W+LpoNa01Y2uraHT7ifyvMG5csiEcjnrSav+2D8BNC8IaL441TxdPDpXiCaa305zptyZZ3iz5gEfl7hjaTyK8Wt/Cvx18QftR/GeX4Q+NPCOh20Uuji9TXNHa+eRzafKUKsNgwCCO/Wr/7QXh74tTfEX4A6D4f8U+G7XxuH1MT6lPpbPp7yiwk81hbhshWycDPBIzQM9V0v9sr4Aazour+ILDxZdvZaGsT3rtpV0pQSNtXCmPLcjtVPwt+3D+zf4z8RWvhXw941uLnUry5S0jiOlXSAStjCsTHhevfFdn8JPC3xV0bTL6D4xeI/C/iC7llU20mjaUbONYwOVdWLbjnnrXE/s92lm3xU+N+bWEmPxbCE+QfKBZx4x6UAeweL/G/hXwDoVx4l8Za7Z6Rplou6a5upQiL6AdyT2A5rh/hx+1B8D/ixrH/CP+CPHVteamQXS0mhlt5ZUHVo1kVd4+ma89/aj/4R4/Fr4Lp8Rmtv+EMOsXguRef8eh1Dyh9kEuflwTvxu43Yqv8Atk23hS10v4eSaDb6fD46bxpo48Nm2VFumX7QvnhdvzGLyd+8fdxQB9O7j6VQh8QaNc6vc6Bb6lbyajZRJNc2yyAyQo/3WZeoBwcfSvlj/havj6D4HfH/AMRXXim4TU/CviS/s9LuG27rONY7coi5HTLkjOfvelcV4uXxL4W8YfH34oaF431231fTfhtaajbYnQwpObN2Viu3nayhl54OeuaAPust7UBs9ulfH/8AwkvxR+F1z8KNXm+KmreLf+Fj201rq1pdJAYYnWxa4W5tvLUFArIFIyQd2TUnh34r+Obn9nr4A+IbrxZOdW8VeJ9J0/VbnK77uKSZ1lQ8YyQp6YPFAH1ZpPiLRde+1/2LqVte/YbhrS4MMgcRTLjchx0IyOK888fftQ/A34Y+KY/BvjTx5aWGquFMkPlvILcN90ysoIjBz/ERXnH7FXhp9Ej+KFyfEeragsvjrUoPJvJ1kRChXLKAowxzzz0A4FP+M02ialqnin4N/BvwLpmseOvGcKt4lvp4PMtdLgmj8sT3chBG/wAsZji4JwDgdaAPpOzu7a/tYr2znjmgnRZIpY2yrowyCD3BBFTVz3w/8Kw+BvBOh+Dre5e4j0WwgsVlc5ZxGgXJ+uK6GgDBvV/4qvSzzkW1x29463q4y/1aZfirpGifJ5T6Pd3Occ7hJCv8mrslORzWtSLio37GFGSk5W6MWiiisjcKKKKACiiigAooooAKKKKACiiigAooooAKKKKACiiigAooooAKKKKACiiigAooooAKKKKACiiigAooooAKKKKACiiigAooooAKKKKACiiigAooooAKKKKACiiigAooooAKKKKACiiigAooooAKKKKACiiigApuD6U6igBpB4oweM06igVhuDRg+pp1FKwxuD6mvi/9qv8AaP8AiX8PP2iPD/wt8O/FTwv4E0LUfDsmqzajrWjyXwM6zbBGBGwIyD9OK+0q8O8Q/AK88QftTaP8c76402fRtN8Lz6G9hPB5jtM8wcSDPGABj8aLBdngHxm/aV+MHgHUfhD4Ytvjl4KsLfxfpF/f6j4ruPD80lnOY2zCUhV96AowH1B6V3Pjfxj+0XD+zjF8W/APxw8GavJo1le6jf3y+HJRBqUakeWkUbSZjK4YHOc5r0bx98A7nxd+0H8OvinG+mDQ/Bum6hYz6dLAD5pnUBNq42gLj0/Ku0+L/wAPpvHfwh8T/Djw79k06XWdMmsbdmj2wxM46lVxx9KLId2cr+zM/wAbtX8CWXi74w+NdD14+IbC01Gwi0zS2szaJJEHZHy7bz8w5GOlR/s+fFHxZ8RfEnxU0vxPNaPB4R8X3OjaaIIfLK2yAFQ5ydx969G+Gnhm88F/Dvwz4Q1CeOa50TSbWwmkiBCO8USoSoPYkV85aB8GP2rvhx498daz8N/EngA6H4x8ST66Y9StJ3uI1kYfLuVgPu5/Giwjc8R/t0/C/wAOfEu78DS6Dr9zpWlarDoWq+JYYEOn2V/JgLExLbzgsAzBcAmszxl+314F8F+M/EXhW8+Hfi+8s/CesW2lazrNrbxvZWfn7RHIzFwcFnAxjPFcPd/sD6/F8X9X8VQyeCdX8OeJtdj1/UU1rT557y3lYAzxQssiqVLglSQSuR1xXReNf2OfGniPRvjPpdl4i0uE/EbXtM1fTi6Ofs0dqyFlkx1J2cY9adgN/wCKn7d/gT4aaz4nsLXwL4r8S2Hg20im1vVNKt0e1s5pYxJFC7MwOSpGSBgZ59a4nUf23/HerePvH/hHw78Nb200zQfAv/CSafqkyo4hme1aeOScbv8AVtgIoAzuznArw39qbQfHngjXfip8L/h1c6rMvxOgsnn0h/C9zNLd3aQRw/6LcqPL8pgnzFvukEEV9AD9k/4rxa9q2uaF4g0K10/xh8NrfwhrFneW7me3uIbV0R42U7cb3+bjoKVh3Z0n7M/7ZNr8Wr3wt8PvF3hHXdG8Ua14bj1qC8urRYbPU1TCzPAA7EKGPGevbivqLBr5n8B/sweKfCnxH+EXjW91+wng+H3gmbwxexqjBriZ2U+YmeAvB619NU7Ceo0DnJFJgA0+sjxRqE+l6PNe2zASI0YBIz1dQf0NOK5nYmbUU5M1RxwRihhkUAg4NOpDRzujeA/DXh/xLrvi3SdNEGqeJGhfUpg5PnNEmxDg9MLxxRrHgTw14g8TaF4u1bTBNqnht5n02cuR5BljMchwDg5Ukc+tdFRQMaRnjFYPh7wP4c8L6rrmtaJpwtrvxHeC+1KTeWM0wQIGwTgfKB0roKKAMDxr4E8JfEXw/c+FvG+gWmsaVdAeba3SBkJHQjuCPUc1wnw4/ZZ+Bnwp1pfEngzwJb2+qxApDd3E8txLAp4xG0jNsGPTFetUUAeUeKv2X/gt401XWNX8QeDxPLr+1tSiS7mjgupFGFleJWCGQAABsZwBWR8cv2ctB8deDvGVz4S0xLfxhrfhO68OWs8l5JFBKjQskSzKMqwUtwSpIr26igDyT4T/ALOXw8+G1tpepW/h5X1qz05LLzprqS4S2BUCRIFclYlY5yFAz9KNP/ZZ+COlatZa1Y+DRHPpmqLrNhH9smMNpdh9/mRRl9qZYkkAYOa9apaAOS8LfDDwh4J13XPEfhjTZLO88R3AutRCzu0Us2MFxGTtVjgZIAJwK838WfsWfs/+NfFeq+NvEHhe+m1jWpRNfXEWq3MRlYLtBwrgDgAV7rRQBneHtB03wvoll4e0eForHToEt7dGkZysajABZiSfqTWjRTZCVRmHUAmgDz/USD8ctGwenh2+/wDR9vXoC9K8j0DU7nWPit4d1G7cNLN4avmcgYHFzCB/SvXFrpxUXDkT7L9TiwclPnkv5n+g6iiiuY7QooooAKKKKACiiigAooooAKKKKACiiigAooooAKKKKACiiigAooooAKKKKACiiigAooooAKKKKACiiigAooooAKKKKACiiigAooooAKKKKACiiigAooooAKKKKACiiigAooooAKKKKACiiigAooooAKKKKACiiigAooooAKKKKACkwOtLRQAmAaMAdB0paKAE9qMD0paKAEwOmKMD0paKAIzBCWDmNdwOQcdKftHQilooATaPSloooAK5n4iv5fhK8cHBEkA/8ipXTVy/xG/5FS7/AOutt/6PStaH8WPqjDE/wpehu/bYBcCxEy+f5fmbO+3OM/TNUr7XUsdW07SmQs+oebtbPC7F3VzLa5av8UbvT47jDWOgrLPx93MjFTn6CuatvGNhqOseAL271ISS3aXB3jo5kjdU/MiuiGEk/etpb9H/AJHHUxsUuVPW/wCq/wAz0jwhq9xrmgQanclTJIzg4GOjkf0rZyfXvXmPgjxVHpvhvR4UkV4Xl1Dzj1IMLMxAPrW/438Y/wDCOeHTq1ikcsrOiBGb7m9cgkfQA1E8NP2vJFbtmtPFwVH2knslf5nYHNUJdXhh1iDR3U+bPC8yt2AUgf1rhvh78QP+En8Sahp1zPsmjsbaWODPHDSB3HpnK/lVHXviP4btfHC3tvqCTLpdpe2k4U/8t0KEx+56flTWDq87g4u6VxPH0uRVE9G7f5nqVxPHbQvcSuESNS7E9AB1NZn/AAkVnJqdppttKJTdxSSK6EFQF6/zrg/H/jiLVfhdr9zp6MJZ/M022MR3FpCox0+pH4VxXww8WxQ+J7K31S6jjh06z1C6nkZvuBpjwfTAHFb0sunOjKq91dW+X+ZhWzOnTrxpJ6Ozv8/8j2//AISSyj1K/sbmYQCwSJndyADvDHj8ENaqSiWNZY2DKwDAjuD0NfO/xX8TvceI9W03S50kjvrOyuoXQ8t8syYHr96vQPBvjmHT/ht4dvNQRzNHbRWN0ZTtbzo4Mt9TuXFKtl1SnSjVX2unyFh8zp1K06Uto9fmd/BqkU+qXOlqrb7aJJGPYhiwH/oJq7XmHh74jeGrnxtcyyagkQ1OO0tIA3H7/bIxjz645qb4h/EVfC+vxafaSmSdNPuLhouwYISjY78rWLwVV1FTSs2rnQsfRjSdVu6Ttoek5zWH4y1m40LSFvrZgHN3aw8gdJJkQ/o1Z/hTxpHr3h+TV7yNIHjeVditkuE6kfmPzrk/GviyLVvD90k0ixxrq2kpACOf3skLgfrSo4aftVGS2epVbFU/Y88XutD0XT9ZS/1LUNOVCrWLRqxzwdy7v61YlvYTNLZCQecsXmFPRTkA/TINeUv480zT77xnd2WphJLee3+bBwqoEV//AEKumj1mFPihdaS8o3XWgxTQjH3tskuT+RFaTwcou9tLfor/AJmUMbCStdat/m7HH/D8mT4geGHPOfDF/wBP+vuGval714v8OZ4X8c6DaD/WWfhu5L4HAD3KbfzC17QtGYq1Ren6sMs1py9X+g6iiiuE9IKKKKACiiigAooooAKKKKACiiigAooooAKKKKACiiigAooooAKKKKACiiigAooooAKKKKACiiigAooooAKKKKACiiigAooooAKKKKACiiigAooooAKKKKACiiigAooooAKKKKACiiigAooooAKKKKACiiigAooooAKKKKACiiigAooooAKKKKACiiigAooooAKKKKACiiigArivjFcyWPw51q8hba8Mccin0IkU5/Su1rlPib4fufFPgvU9CtWxJcrHjnHCurEfiAa3wziq0HLa6/M5sYpOhNQ3s/yPlPxN8TNfs/HGt6/Z3DCe6037JuC8MAuBx/wIn8a5D4e+K9W0pNPGvyTqnhqSKVCy/MoMcsn6Fv0r00fDy91C08P6nb2L/bbrUriGSQjIfCx7Bg9R8jn8K6TXvg8mtfEfxrHPEVi1DSJLm2iiAAMmwIv0PzH8q+8WOwdKHsmla35NL9WfnjwONrS9td3T0Xqm/wBEZXh7xJLZ+EfJm3Sy2ltqN2HwNzvcQFwCPqT+VYt38SL7x34ssND0658qzfTbLUr6LBO5zaqAh9ME561S1rQfENppctuI5AbZtNt5Aw/56/u3+p+XH41S+Dvw8vtCutc1TV5nF3pzNprIRwVWeFE2nr0NSqeGjCVe6v0+bRTqYuU44ezUevyR1fgjxWvhb4l6/qZIcxWaWqL/AA7maZh9P9WOPevJ77xHf658QLy+gDx2s+pzX/lhuB51sxYe4LAV23iDR3sNd1q6srfZJql5ZQSM5wPNk+1R7uenO2rfhz4Uax4e8HapqepWpjlFpYpHI0YJZ1kWN/zBP51rSqYXDp1pP3mkvuMqtLF4hqjFPli2/vVjJ8B/Eu78R6dYeHLcNHAniVpZQwGW3E4A55AAFc/Pqdxp3iHxfdPJ5cZh8tHPyg7ogQB9Sf1rqdK+Dk2geNdHjs18uz0u4D3BAyZpPMbaT6natdNq/wAHovEPhBLuVHtrzVPNu2fqHWGJXj/9Bx+NVPFYKhVbXwy/zuRDCY2vTSl8Uf8AKx5pbapPqHjXwjeJN5sMsfls4JK/LjAP5mtvx38TbvQbSTw7ODLbjxN5sSqfugEBgT26k12uk/B+28N+Ho5o4pLi70O8gCT5wFjkRWc4+pxXJXHwWuvE/jTVY9QkP2XVtW8yF84aILMd4Hodi8H3op4nBVp3ltH9HdF1MNjaMLRXvS/ys/xOO0bxNf6D8RrW8mDNZway+obXPDFYQqn8C5H41654t8SHxN8S9E1JQoeewSCVAOGYx7m/D56xfEfwh13xF4R0TU9Ksy8k2mymaUJysrzqF6ey5pnhrTV1DW9H1GeJ3ezvpbOArk8q8MG73ztNRUnhq7WIg9Umv8gpU8Th08PUXuyafz6hH8TdS8F+ItV0O/nE8EekXWoafEAchpAg2fmCa3vE+tyS+DXETeRMkVrqhbqY3s7SN2X8wfyrjfiz8NrzXL/w7rGlzFbvUfIsyFPyiPdMW9z/AKscVoaVoOv6toE1tcQSM99baxBFEvOVIniQY7H5VqHSwnJGvF69f6+RoqmLU50Gnbp/XzOF+IfifVrqa7g8PyyGLxA017wvzOqvC4/Dr+Vdp4Z+J/iK58dWGv3NwXnXR1sizDopjySB65Br0PQ/hCNG+KegJZKTb6Zoxd4pADtZoypHv822uQj+H1/Z2ms376ewubbVRbI4GONjbhx9QKbxmEqwVKy2Wv8Ai/4ZE/U8ZRqOo77/APpOv6s9V+B9vFfarFrMjb5l8O2ke7P9+SRm/UCvak7ivIvgD4Xv/CsWuaLqtqyT2V0sUcrHJkgILp+W4168ABXxeZyjPFS5XdLY+6ymEo4WPMrPqLRRSVwHpi0V4B4x/bP+G/g7xlrXgeTwt431W+0C4FreyaV4fnu4UlKhtu9ARnBB/GrPiv8AbB+Hfg/SPCup6n4a8ZyT+L7ae6sNPt9BnkvEjhYq5kiA3Jjg89iD3oA92orwWx/bB8F6h4U1TxdB4B+Ia22k3EFtLDJ4ZuVnkaXdgom3LKNpyR0yKpfDj9tv4ZfFHxRbeFPDHhXxz9onvTp7z3Hh6eK3t5wu5klkIwhAIyD0zQB9D0VxHxV+MXgL4MeHR4m8f62thbSSiC2iSNpZ7qYjIihjUFpHODwBXIfC39q/4UfFTxL/AMIZYTatofiB4jcW+ma7psthPcxDq8QlA3gdwORQB7NRSE++KxtK8X+H9b1zVvDmlanFcajoTRJqEKZJgaRSyBvcgZoA2qKQdKR22jJOKAHUVjeFfF/h7xrpsureGdTiv7SG6msnmjztE0TlJF59GBH4V5R41/bA+DvgPxxN4F1y91YzWdxFaX+owaZLJYWM0hG2OacDYh5GcnAyM4oA9woqOGVJo1mjdWR1DKynIIPQ/lUlABRRRQAUUUUAFFFFABRRRQAUUUUAFFFFABRRRQAUUUUAFFFFABRRRQAUUUUAFFFFABRRRQAUUUUAFFFFABRRRQAUUUUAFFFFABRRRQAUUUUAFFFFABRRRQAUUUUAFFFFABRRRQAUUUUAFFFFABRRRQAUUUUAFFFFABRRRQAVHIm/gjg1JRSauBlHw9pjpZxfZFRLGXz4FXgK+CM/+PGr/wBlt/ONz5CeaV2FwOdvpmpqKpyb3ZChFbIwtf8ACmm6/HHHcQKmy4hnLIoyxjbcoJ+tJP4P0OeK8jFgifb5lnnIGCzgqc5+qA1vUVSqzVkmS6NOV7rc5fVPh/4c1R55JdPRZJ2hZ2C9TEzMp+uXNb9xYWl5btaXNukkLYBQjg4Oas0UOpOSXM72HGjCF+VGf/Yml+YswsYg6ZIIXnJ6/wA6LfR9Ogt4LZLKPy7ZDHEpGdqkYI/EVoUUnKT6jVOKd0ijNpOnTRSwSWaFJypkUDAbGMflgUJo2mxyvMtlFvdt5O0Z3Yxmr1FHPJdQdOL3RVisLa3tVsoIFjhVdioo4UVg6X8PvDmkrAILBWa2aRo2ZehaTzCeO+7HPtXUUU41JwTUXuKVGnNpyV7GHF4O0GGOwjFijDTWLW+4ZKEhhn/x40aB4V03QLRra1hDZmmmVnXLDzHLEZ+rGtyin7Wpa19CfYU73tqV1tIBObryEExXZvx82M9M1Rj8N6SkNzCbNWS7uDdSq3O6QkHP6CtaioUpR2ZbpxluiKK3iikeWOJVaTG9gOWwMD9KloopFWsFI3TrilpGBIwDQM+PfC/w0+L3jP4v/F/UPh98dL3wXYweKVilso9Ihulkk+zREybpGyDjAxWl8bPBXxB1749fCbw34a+KM/h/xBD4c1fz9cjsI5Wn2iLfmInaNxweK+ndH8M6HoN3qV9pOmQWtxrFz9rvpI1wbibaF3t6nAA/CmXfhbQr7xFZeK7rTIJNV06GW3tbth+8hjkxvVT2DYGaAOf+FXhHxx4N8Pyab4/+Ik3jPUHuGkS/lsUtSkZAxHtQ4wDnn3rzb9kNQLf4sH/qper/APou3r385wcdayfD3hTw/wCFRqC+H9JtrEapeyajd+Qm3zrlwA8jerEKuT7UAeAfHnUfD3hP9pj4U+M/iPPBb+E4bDVLK1u7tf8ARrPVpPL8p3Y8IWTeqse596zv2jvF3gPxt47+Efh3wLq2na34yt/F1rqED6bMs0lnpyBvtLuyE7Y2Ugc8E19H+LPCHhnxzolz4a8X6DY6xpd2u2a0vYRLE/1U1zXw5+BHwg+ETzy/DX4d6H4elueJpbO1Cu49N33se2cUAfM3jj4najo/7MfxKuG8cTwa7a/Ee7060Y3u25SM65Gqwrlt2PJJwP7tch4+0W18FQftL+LfDvinVtK1tI9KMV0NSkzCJYY2kkC56g9D2FfX+s/s8fBbxDrV94i1n4b6JealqbI93cTQbjM6kMrsMgFgVU568da5v48fs5+Hfid4S8Sw+HdI0yw8Wa/pqaZ/asqtkwrIrbHxwQAuBxmgDyHWI5/hr4r0uy+HPxN1zxJD4u8H61ea0lxqrXiq8VmZYL6MZPlM0mFAXC/Px0rQPxF/tfwd+zbpMPjd5r3xNfQpfrDe/v7uIWEnnb8HPDlc+hx3Fe/+Bvgv8Mvh6bi48I+CdI0q5voRDdyW0ODImOU5Jwmf4Rx7VU0T9nz4M+HNWh13Q/hxolpqFtdtfW9xHB88M7AhmQnO3O5shcDnpQB5f+wx4S0Pw18NNel0q7vJJbnxVrC3CXF68+wpdyKuAxOwkDJ9evesP9qjxf4A8YfDHxtoOgfFDQdFOgTSDxHotzbLHNqky7XFuS22QbwNodA2c8ZxX0Z4X+HfgzwXf6rqXhbw9aabca3cfa79oFK+fMersM4yfYCsHxN+z98F/GXi2Hx34p+Gfh/VNft9vl6hc2avKNv3cnvjtnNAHQ/D7Vxr3gjQNaGlyab9u0y2uPsbj5rffGreWfpnFdDTETYAowFAwB6U+gAooooAKKKKACiiigAooooAKKKKACiiigAooooAKKKKACiiigAooooAKKKKACiiigAooooAKKKKACiiigAooooAKKKKACiiigAooooAKKKKACiiigAooooAKKKKACiiigAooooAKKKKACiiigAooooAKKKKACiiigAooooAKKKKACiiigAooooAKKKKACiiigAooooAKKKKACiiigAooooAKQnFLVS6v4ba4itpCB5qu24nAAXH+NFr6CbsrlhZFYsoYErjI9M0+sbSnZ9Y1YFshXhwP+2YrQkvYI54rVpf3swJQeuBzTcWpWJjO8blmiqNvqAm1C6sNhBt0jfOfvbt38tv61R0zWC/2aG4DGS5muVU+gR2/oAKfIxKonY1L+6Wxsp7xhlYI2lI9QAT/SnWs4ubeOcDAkUNj6jNVdeIOi3/AHBtpB/46aTTLiGKzsraSQCWSEFV7nAGaFH3b+Yc1p+VjRopMj1pFkRgCrgg+hqTQdSYGc96QSIc4cHHBwelMnuYbdPMmkCqSFyT3JwKAuVk1JX1aTSgh3RQrMW7YJIx+lXQc1i24H/CV3bZ/wCXSIf+PNV+/vY7GFJJM/vJUiGPViAP51bjdpIyUrJtlyisex1Kb7HfXM+X8i4mC/7q9BVtNSgFhb307eWsyx8HsXxgfmaTi0VGakXGIUZNIjq6hlIIPQiobpwbSVlIPyH+VY2j6pDZeHbCa4fLPEvGeSCwGf1H50KLaE52ZvuwRSxOAOSaEdZFDqQQehFQXx/0G4Of+WTf+gmjTxizhGMfIOPwpW0uUn7xZooopFBRRRQAUUUUAFFFFABRRRQAUUUUAFFFFABRRRQAUUUUAFFFFABRRRQAUUUUAFFFFABRRRQAUUUUAFFFFABRRRQAUUUUAFFFFABRRRQAUUUUAFFFFABRRRQAUUUUAFFFFABRRRQAUUUUAFFFFABRRRQAUUUUAFFFFABRRRQAUUUUAFFFFABRRRQAUUUUAFFFFABRRRQAUUUUAISAMnpXE+LtStropLatu8qC6jPPQgqCRj3FdHr+qWmmabJLdTCNZP3ak/3iDivIBqEVr5bTykxSWUkaY5yzyHH9K78Dh3UfO/Q8zH4lU48iPRPA+uLrt1qt15PlESRKy5zkhKzPDOoXV74hEdw25bW6uo489QuxSf1NcDF4kXw5q9nbx3Rt5LueVwecMqoq/wA2H51cv9Tv9J8q+sJdt3JeSiPPG5mjwB+OK7Xgrt8v2locSx1ox5vsvX8D01NStrPxXewTttD2STbj0Cxk5z/30KwLjUngsNN1DTp1YtLdSI2M/fbP8jXJS65e6zNqmq3Dgb9HubdHGQokWNMr7nOT+Bqtoepw6ZoOn2mpNIDcTO0TZyoTyITk8cd6UMJy6vV6L8GE8bzXS0W/4o9Gg16OLwNbi9uDJczWKbsnLEv8uT68motbu2s73wzJ5gTLbGO7HBArz+z8QR3dnJBdTIoQ2dpbqW+/sl5x9QM1V13xLd6oY7W4KoYtQUQ4PJAKqQPwXP4mnDAS52n5/kE8xi6ad+35nuEWrx3NrfTRjP2VnUc8NhQwP61zuhXl1PoWgXEc7xie4eWQA/eUu3ynPb5v0FcNpuq6hoviSPTbqWSS31eLMJLYVAlod3HruWtfwr4jC6Ja29wjj+ymaQnb/wAs+Dj65Nc8sE6StHW/+TN445VZJz0t/mjsfD+qGbWvEGnOoC21yrhieu5Bx+lZ3iDX0vIdIMZ8sTXu2SPd821JAP6Vwt94vm086tqhjO++1SCAbTg8oyg/mBWXeNeaPd+GzfzmSe3t2Ehbo8pwQDjvwa3pYJOopPt+n+ZjUx7UbL7/AJ3/ACPYZtRtrDxVMZ22iS03FuwCckn86wdW1W7k8TtpvnlrV5opQp5wQ0WMe3zGuXtPFA1Ff7Q1SeKGaWG9gjyfvNs+VRnqeT+VVtP8VxTXlleaiQZRPDbOQMkAmLDYHrtb8qmGClFttbIc8dGS0e7O/wD7Zs7LRvEEbTKzwzSM6A8gPwD+Zq5q52+ErNlGNptsfgRXldr9oivvFdrI5M09vCI1PJYmZiuB9Ktp4t1nUJ9N06aZTZpNDA/bdMjtuX8sZ/ChYJtpx73/AAH9fUU1JdLfM9G8JX89/oV9c3bAyNPMD/IVxlhrX9r29kFiaJba22DLdR5sXNZWp+JjoGn21o960Ecl6CV55HmYPT2IqqJlsdMngdijyxMkYHc71YfoK2p4Wzk2t9jGpiruML/Dues6/rsbeHrm80+TISTyG/772tXQWvEMf+6P5V48urW1rpl9ZTzjzry7gWNT1zvBzj3xXscQARfpXl4qj7FJebPVwlf28n5ElFFFch3BRRRQAUUUUAFFFFABRRRQAUUUUAFFFFABRRRQAUUUUAFFFFABRRRQAUUUUAFFFFABRRRQAUUUUAFFFFABRRRQAUUUUAFFFFABRRRQAUUUUAFFFFABRRRQAUUUUAFFFFABRRRQAUUUUAFFFFABRRRQAUUUUAFFFFABRRRQAUUUUAFFFFABRRRQAUUUUAFFFFABRRRQAUUUUAec/GtinhqzZOcX6Aj1HlycV5+mi3euyzxRllm0S9tI1tk+UeVIobn8X/QV7R4u8LQ+KtK/s6aUxlZFlRweVIP+BIq5p+iWunz3dxHGm+7kV3IHPyqAB+GBXp4fHLD0FFL3r3PIxGXvEV3J/Dax4br+lzS6/wCEbqW0MoitbrzRtyFbep5/75/StbU9Le5i0+4lty8UVwZg7cDzVJwfXIxXrg0KyWdZVhQKsTxbMcYYg5+vX86guvDGnXFkbEKY03tKNp6Mep5q45ivdTWxMstd5W6nmt5pca+HreysoxGt1eSCPA+UGSA8k+5Nc74i0S+sNPisZJAzTwW/kDJ4Jg8rHt8yZ/GvaZPDYGkW2mW9wAbZom8x1DFghHX3IGKmufDlhdajDqE0YJhRUVcccEkfzNTTzD2buu4VMt9pdPqjynQ/h9bSzW2mami/bLOWS53BjgMhXaffhiK5eDThPqf9pySS+VZ3N2+xV3biq8YHrk19DR6PZQ3El1HCPNlZmZz15xkfoKy9P8Hafp/liOJCIppZV+Xrv6g1pDM5Xbk9yJ5UklGK2PLPF9hNNqvh6ZoLj7OyvbNLHGTsMg8sHjpy4NSPY6wbzxDBo1vDLHbwyBs9d+VwMD2Dcewr1jR9Gkt9P+y6n5U7rM7qdvGN2V/HgVU0/wAHW+n3Ws3UU7Z1jBcf3CARkfnUrHq1l0HLLpN3e7PHfFGkfb9K0e90/wAyeS4vmYCKPcpSOQtuLD2OAa1vGumf2lL9jRpIZYXt5ldVPYuhAb1+YV6n4X8K2fhrQ7PRoz532RCqyOMnnrTbPw87m6/tIROHuhNGFXoowQD+OapZkr+gv7Mdt97fI8o0Dw3p+teH59TvVLNpd+zxL0IcsB/Ims3+xZdJ10XbqgtrucG3XOcrEZhg/TrXt2meGdP06C8gESst5cNO47ZJ4ouPC+mXFkliItqI7OpHJG7JIH5mj+07Tk+jF/ZSdOK6o8tsdHvrPxFYXd0xdpmsI325YlsbmJ/766+1Q3mheZqNqbe0BuFu5Z0x/wA9GZRn6kV65/YiC+srqJkVbVGUqVyW+UAHPtiok8L2aaq2qb2yWDLHwFUgAcfkKzjj0nfyNZZe5RSfc8U8dadPeaXbKtqzyLqCchclcM+ef+Aj8hW/4h8LS6x4i3yM8FpBM8jsh28JGSQR6civUz4d04W81ukIAnJZieSCTn+pq0thbqjoIl/eZ3ZGd2Rg/piqlmb0stri/spOUpN72Pne3hbV9d8NG5HF7PBMWAA34kyP6/ma+kEGFA74xXLN4BsG1XStRZgF0qJkjReAW3AqfwAIrqQO9c2OxSxLjbodGAwjwrnfqOoooriPRCiiigAooooAKKKKACiiigAooooAKKKKACiiigAooooAKKKKACiiigAooooAKKKKACiiigAooooAKKKKACiiigAooooAKKKKACiiigAooooAKKKKACiiigAooooAKKKKACiiigAooooAKKKKACiiigAooooAKKKKACiiigAooooAKKKKACiiigAooooAKKKKACiiigAooooAKKKKACkxS0UAJS0UUAFFFFABSAUtFACY7UAYpaKAEIzQBilooCwmKWiigAooooATGaWiiiwBRRRQAUUUUAFFFFABRRRQAUUUUAFFFFABRRRQAUUUUAFFFFABRRRQAUUUUAFFFFABRRRQAUUUUAFFFFABRRRQAUUUUAFFFFABRRRQAUUUUAFFFFABRRRQAUUUUAFFFFABRRRQAUUUUAFFFFABRRRQAUUUUAFFFFABRRRQAUUUUAFFFFABRRRQAUUUUAFFFFABRRRQAUUUUAFFFFABRRRQAUUUUAFFFFABRRRQAUUUUAFFFFABRRRQAUUUUAFFFFABRRRQAUUUUAFFFFABRRRQAUUUUAFFFFABRRRQAUUUUAFFFFABRRRQB//Z)"
      ]
    },
    {
      "cell_type": "code",
      "execution_count": null,
      "metadata": {
        "id": "37FbGKHeNvm4"
      },
      "outputs": [],
      "source": [
        "# An integer scalar Tensor. The window length in samples.\n",
        "frame_length = 256\n",
        "# An integer scalar Tensor. The number of samples to step.\n",
        "frame_step = 160\n",
        "# An integer scalar Tensor. The size of the FFT to apply.\n",
        "# If not provided, uses the smallest power of 2 enclosing frame_length.\n",
        "fft_length = 384\n",
        "\n",
        "\n",
        "def encode_single_sample(wav_file, label):\n",
        "    ###########################################\n",
        "    ##  Process the Audio\n",
        "    ##########################################\n",
        "    # 1. Read wav file\n",
        "    file = tf.io.read_file(wavs_path + wav_file + \".wav\")\n",
        "    # 2. Decode the wav file\n",
        "    audio, _ = tf.audio.decode_wav(file)\n",
        "    audio = tf.squeeze(audio, axis=-1)\n",
        "    # 3. Change type to float\n",
        "    audio = tf.cast(audio, tf.float32)\n",
        "    # 4. Get the spectrogram\n",
        "    spectrogram = tf.signal.stft(\n",
        "        audio, frame_length=frame_length, frame_step=frame_step, fft_length=fft_length\n",
        "    )\n",
        "    # 5. We only need the magnitude, which can be derived by applying tf.abs\n",
        "    spectrogram = tf.abs(spectrogram)\n",
        "    spectrogram = tf.math.pow(spectrogram, 0.5)\n",
        "    # 6. normalisation\n",
        "    means = tf.math.reduce_mean(spectrogram, 1, keepdims=True)\n",
        "    stddevs = tf.math.reduce_std(spectrogram, 1, keepdims=True)\n",
        "    spectrogram = (spectrogram - means) / (stddevs + 1e-10)\n",
        "    ###########################################\n",
        "    ##  Process the label\n",
        "    ##########################################\n",
        "    # 7. Convert label to Lower case\n",
        "    label = tf.strings.lower(label)\n",
        "    # 8. Split the label\n",
        "    label = tf.strings.unicode_split(label, input_encoding=\"UTF-8\")\n",
        "    # 9. Map the characters in label to numbers\n",
        "    label = char_to_num(label)\n",
        "    # 10. Return a dict as our model is expecting two inputs\n",
        "    return spectrogram, label"
      ]
    },
    {
      "cell_type": "markdown",
      "metadata": {
        "id": "DMDx0uDgF2ZM"
      },
      "source": [
        "Creating Dataset objects\n",
        "\n",
        "\n",
        "We create a tf.data.Dataset object that yields the transformed elements, in the same order as they appeared in the input."
      ]
    },
    {
      "cell_type": "code",
      "execution_count": null,
      "metadata": {
        "id": "dmmU-wsLCiqz"
      },
      "outputs": [],
      "source": [
        "batch_size = 32\n",
        "# Define the training dataset\n",
        "train_dataset = tf.data.Dataset.from_tensor_slices(\n",
        "    (list(df_train[\"file_name\"]), list(df_train[\"normalized_transcription\"]))\n",
        ")\n",
        "train_dataset = (\n",
        "    train_dataset.map(encode_single_sample, num_parallel_calls=tf.data.AUTOTUNE)\n",
        "    .padded_batch(batch_size)\n",
        "    .prefetch(buffer_size=tf.data.AUTOTUNE)\n",
        ")\n",
        "\n",
        "# Define the validation dataset\n",
        "validation_dataset = tf.data.Dataset.from_tensor_slices(\n",
        "    (list(df_val[\"file_name\"]), list(df_val[\"normalized_transcription\"]))\n",
        ")\n",
        "validation_dataset = (\n",
        "    validation_dataset.map(encode_single_sample, num_parallel_calls=tf.data.AUTOTUNE)\n",
        "    .padded_batch(batch_size)\n",
        "    .prefetch(buffer_size=tf.data.AUTOTUNE)\n",
        ")"
      ]
    },
    {
      "cell_type": "markdown",
      "metadata": {
        "id": "UAJZtLewGhXV"
      },
      "source": [
        "Let's visualize an example in our dataset, including the audio clip, the spectrogram and the corresponding label."
      ]
    },
    {
      "cell_type": "code",
      "execution_count": null,
      "metadata": {
        "id": "XolW1ZOwGDIv"
      },
      "outputs": [],
      "source": [
        "fig = plt.figure(figsize=(8, 5))\n",
        "for batch in train_dataset.take(1):\n",
        "    spectrogram = batch[0][0].numpy()\n",
        "    spectrogram = np.array([np.trim_zeros(x) for x in np.transpose(spectrogram)])\n",
        "    label = batch[1][0]\n",
        "    # Spectrogram\n",
        "    label = tf.strings.reduce_join(num_to_char(label)).numpy().decode(\"utf-8\")\n",
        "    ax = plt.subplot(2, 1, 1)\n",
        "    ax.imshow(spectrogram, vmax=1)\n",
        "    ax.set_title(label)\n",
        "    ax.axis(\"off\")\n",
        "    # Wav\n",
        "    file = tf.io.read_file(wavs_path + list(df_train[\"file_name\"])[0] + \".wav\")\n",
        "    audio, _ = tf.audio.decode_wav(file)\n",
        "    audio = audio.numpy()\n",
        "    ax = plt.subplot(2, 1, 2)\n",
        "    plt.plot(audio)\n",
        "    ax.set_title(\"Signal Wave\")\n",
        "    ax.set_xlim(0, len(audio))\n",
        "    display.display(display.Audio(np.transpose(audio), rate=16000))\n",
        "plt.show()"
      ]
    },
    {
      "cell_type": "markdown",
      "metadata": {
        "id": "sZW4lSUPGxO2"
      },
      "source": [
        "Model\n",
        "\n",
        "We first define the CTC Loss function."
      ]
    },
    {
      "cell_type": "code",
      "execution_count": null,
      "metadata": {
        "id": "rXnBOFEuGmHM"
      },
      "outputs": [],
      "source": [
        "def CTCLoss(y_true, y_pred):\n",
        "    # Compute the training-time loss value\n",
        "    batch_len = tf.cast(tf.shape(y_true)[0], dtype=\"int64\")\n",
        "    input_length = tf.cast(tf.shape(y_pred)[1], dtype=\"int64\")\n",
        "    label_length = tf.cast(tf.shape(y_true)[1], dtype=\"int64\")\n",
        "\n",
        "    input_length = input_length * tf.ones(shape=(batch_len, 1), dtype=\"int64\")\n",
        "    label_length = label_length * tf.ones(shape=(batch_len, 1), dtype=\"int64\")\n",
        "\n",
        "    loss = keras.backend.ctc_batch_cost(y_true, y_pred, input_length, label_length)\n",
        "    return loss"
      ]
    },
    {
      "cell_type": "markdown",
      "metadata": {
        "id": "1YeGTryeHMAC"
      },
      "source": [
        "We now define our model. We will define a model similar to DeepSpeech2."
      ]
    },
    {
      "cell_type": "markdown",
      "metadata": {
        "id": "7k-vXRp6I2ht"
      },
      "source": [
        "Training and Evaluating"
      ]
    },
    {
      "cell_type": "code",
      "execution_count": null,
      "metadata": {
        "id": "hJj6LMjNG3xn"
      },
      "outputs": [],
      "source": [
        "def build_model(input_dim, output_dim, rnn_layers=5, rnn_units=128):\n",
        "    \"\"\"Model similar to DeepSpeech2.\"\"\"\n",
        "    # Model's input\n",
        "    input_spectrogram = layers.Input((None, input_dim), name=\"input\")\n",
        "    # Expand the dimension to use 2D CNN.\n",
        "    x = layers.Reshape((-1, input_dim, 1), name=\"expand_dim\")(input_spectrogram)\n",
        "    # Convolution layer 1\n",
        "    x = layers.Conv2D(\n",
        "        filters=32,\n",
        "        kernel_size=[11, 41],\n",
        "        strides=[2, 2],\n",
        "        padding=\"same\",\n",
        "        use_bias=False,\n",
        "        name=\"conv_1\",\n",
        "    )(x)\n",
        "    x = layers.BatchNormalization(name=\"conv_1_bn\")(x)\n",
        "    x = layers.ReLU(name=\"conv_1_relu\")(x)\n",
        "    # Convolution layer 2\n",
        "    x = layers.Conv2D(\n",
        "        filters=32,\n",
        "        kernel_size=[11, 21],\n",
        "        strides=[1, 2],\n",
        "        padding=\"same\",\n",
        "        use_bias=False,\n",
        "        name=\"conv_2\",\n",
        "    )(x)\n",
        "    x = layers.BatchNormalization(name=\"conv_2_bn\")(x)\n",
        "    x = layers.ReLU(name=\"conv_2_relu\")(x)\n",
        "    # Reshape the resulted volume to feed the RNNs layers\n",
        "    x = layers.Reshape((-1, x.shape[-2] * x.shape[-1]))(x)\n",
        "    # RNN layers\n",
        "    for i in range(1, rnn_layers + 1):\n",
        "        recurrent = layers.GRU(\n",
        "            units=rnn_units,\n",
        "            activation=\"tanh\",\n",
        "            recurrent_activation=\"sigmoid\",\n",
        "            use_bias=True,\n",
        "            return_sequences=True,\n",
        "            reset_after=True,\n",
        "            name=f\"gru_{i}\",\n",
        "        )\n",
        "        x = layers.Bidirectional(\n",
        "            recurrent, name=f\"bidirectional_{i}\", merge_mode=\"concat\"\n",
        "        )(x)\n",
        "        if i < rnn_layers:\n",
        "            x = layers.Dropout(rate=0.5)(x)\n",
        "    # Dense layer\n",
        "    x = layers.Dense(units=rnn_units * 2, name=\"dense_1\")(x)\n",
        "    x = layers.ReLU(name=\"dense_1_relu\")(x)\n",
        "    x = layers.Dropout(rate=0.5)(x)\n",
        "    # Classification layer\n",
        "    output = layers.Dense(units=output_dim + 1, activation=\"softmax\")(x)\n",
        "    # Model\n",
        "    model = keras.Model(input_spectrogram, output, name=\"DeepSpeech_2\")\n",
        "    # Optimizer\n",
        "    opt = keras.optimizers.Adam(learning_rate=1e-4)\n",
        "    # Compile the model and return\n",
        "    model.compile(optimizer=opt, loss=CTCLoss)\n",
        "    return model\n",
        "\n",
        "\n",
        "# Get the model\n",
        "model = build_model(\n",
        "    input_dim=fft_length // 2 + 1,\n",
        "    output_dim=char_to_num.vocabulary_size(),\n",
        "    rnn_units=512,\n",
        ")\n",
        "model.summary(line_length=110)"
      ]
    },
    {
      "cell_type": "code",
      "execution_count": null,
      "metadata": {
        "id": "edz23RLrHxHs"
      },
      "outputs": [],
      "source": [
        "# A utility function to decode the output of the network\n",
        "def decode_batch_predictions(pred):\n",
        "    input_len = np.ones(pred.shape[0]) * pred.shape[1]\n",
        "    # Use greedy search. For complex tasks, you can use beam search\n",
        "    results = keras.backend.ctc_decode(pred, input_length=input_len, greedy=True)[0][0]\n",
        "    # Iterate over the results and get back the text\n",
        "    output_text = []\n",
        "    for result in results:\n",
        "        result = tf.strings.reduce_join(num_to_char(result)).numpy().decode(\"utf-8\")\n",
        "        output_text.append(result)\n",
        "    return output_text\n",
        "\n",
        "\n",
        "# A callback class to output a few transcriptions during training\n",
        "class CallbackEval(keras.callbacks.Callback):\n",
        "    \"\"\"Displays a batch of outputs after every epoch.\"\"\"\n",
        "\n",
        "    def __init__(self, dataset):\n",
        "        super().__init__()\n",
        "        self.dataset = dataset\n",
        "\n",
        "    def on_epoch_end(self, epoch: int, logs=None):\n",
        "        predictions = []\n",
        "        targets = []\n",
        "        for batch in self.dataset:\n",
        "            X, y = batch\n",
        "            batch_predictions = model.predict(X)\n",
        "            batch_predictions = decode_batch_predictions(batch_predictions)\n",
        "            predictions.extend(batch_predictions)\n",
        "            for label in y:\n",
        "                label = (\n",
        "                    tf.strings.reduce_join(num_to_char(label)).numpy().decode(\"utf-8\")\n",
        "                )\n",
        "                targets.append(label)\n",
        "        wer_score = wer(targets, predictions)\n",
        "        print(\"-\" * 100)\n",
        "        print(f\"Word Error Rate: {wer_score:.4f}\")\n",
        "        print(\"-\" * 100)\n",
        "        for i in np.random.randint(0, len(predictions), 2):\n",
        "            print(f\"Target    : {targets[i]}\")\n",
        "            print(f\"Prediction: {predictions[i]}\")\n",
        "            print(\"-\" * 100)"
      ]
    },
    {
      "cell_type": "markdown",
      "metadata": {
        "id": "UTyKfMfAJGrt"
      },
      "source": [
        "Let's start the training process."
      ]
    },
    {
      "cell_type": "code",
      "execution_count": null,
      "metadata": {
        "colab": {
          "base_uri": "https://localhost:8080/"
        },
        "id": "iowyMabTJBZx",
        "outputId": "5504156b-172c-4623-f38f-a0ee0ad0d110"
      },
      "outputs": [
        {
          "metadata": {
            "tags": null
          },
          "name": "stdout",
          "output_type": "stream",
          "text": [
            "Epoch 1/10\n",
            "\u001b[1m 56/369\u001b[0m \u001b[32m━━━\u001b[0m\u001b[37m━━━━━━━━━━━━━━━━━\u001b[0m \u001b[1m18:10:21\u001b[0m 209s/step - loss: 556.1105"
          ]
        }
      ],
      "source": [
        "# Define the number of epochs.\n",
        "epochs = 5\n",
        "# Callback function to check transcription on the val set.\n",
        "validation_callback = CallbackEval(validation_dataset)\n",
        "# Train the model\n",
        "history = model.fit(\n",
        "    train_dataset,\n",
        "    validation_data=validation_dataset,\n",
        "    epochs=epochs,\n",
        "    callbacks=[validation_callback],\n",
        ")"
      ]
    },
    {
      "cell_type": "markdown",
      "metadata": {
        "id": "AOlveRucJecV"
      },
      "source": [
        "Inference"
      ]
    },
    {
      "cell_type": "code",
      "execution_count": null,
      "metadata": {
        "id": "1BdohB1gJKsJ"
      },
      "outputs": [],
      "source": [
        "# Let's check results on more validation samples\n",
        "predictions = []\n",
        "targets = []\n",
        "for batch in validation_dataset:\n",
        "    X, y = batch\n",
        "    batch_predictions = model.predict(X)\n",
        "    batch_predictions = decode_batch_predictions(batch_predictions)\n",
        "    predictions.extend(batch_predictions)\n",
        "    for label in y:\n",
        "        label = tf.strings.reduce_join(num_to_char(label)).numpy().decode(\"utf-8\")\n",
        "        targets.append(label)\n",
        "wer_score = wer(targets, predictions)\n",
        "print(\"-\" * 100)\n",
        "print(f\"Word Error Rate: {wer_score:.4f}\")\n",
        "print(\"-\" * 100)\n",
        "for i in np.random.randint(0, len(predictions), 5):\n",
        "    print(f\"Target    : {targets[i]}\")\n",
        "    print(f\"Prediction: {predictions[i]}\")\n",
        "    print(\"-\" * 100)"
      ]
    }
  ],
  "metadata": {
    "colab": {
      "provenance": [],
      "cell_execution_strategy": "setup"
    },
    "kernelspec": {
      "display_name": "Python 3",
      "name": "python3"
    },
    "language_info": {
      "name": "python"
    }
  },
  "nbformat": 4,
  "nbformat_minor": 0
}